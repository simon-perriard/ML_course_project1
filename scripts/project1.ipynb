{
 "cells": [
  {
   "cell_type": "code",
   "execution_count": 27,
   "metadata": {
    "scrolled": true
   },
   "outputs": [
    {
     "name": "stdout",
     "output_type": "stream",
     "text": [
      "The autoreload extension is already loaded. To reload it, use:\n",
      "  %reload_ext autoreload\n"
     ]
    }
   ],
   "source": [
    "# Useful starting lines\n",
    "%matplotlib inline\n",
    "import numpy as np\n",
    "import matplotlib.pyplot as plt\n",
    "%load_ext autoreload\n",
    "%autoreload 2"
   ]
  },
  {
   "cell_type": "markdown",
   "metadata": {},
   "source": [
    "## Load the training data into feature matrix, class labels, and event ids:"
   ]
  },
  {
   "cell_type": "code",
   "execution_count": 54,
   "metadata": {},
   "outputs": [],
   "source": [
    "from proj1_helpers import *\n",
    "from validation_helpers import *\n",
    "DATA_TRAIN_PATH = '../data/train.csv' \n",
    "y, tX, ids = load_csv_data(DATA_TRAIN_PATH)"
   ]
  },
  {
   "cell_type": "code",
   "execution_count": 52,
   "metadata": {},
   "outputs": [],
   "source": [
    "from implementations import *"
   ]
  },
  {
   "cell_type": "markdown",
   "metadata": {},
   "source": [
    "## Do your thing crazy machine learning thing here :) ..."
   ]
  },
  {
   "cell_type": "code",
   "execution_count": 30,
   "metadata": {},
   "outputs": [],
   "source": [
    "split_x, split_y, split_ids = separate(y, tX, ids)"
   ]
  },
  {
   "cell_type": "code",
   "execution_count": 31,
   "metadata": {
    "scrolled": true
   },
   "outputs": [
    {
     "name": "stdout",
     "output_type": "stream",
     "text": [
      "Statistics \n",
      "Type :\n",
      "0\n",
      "[0.26145747 0.         0.         0.         1.         1.\n",
      " 1.         0.         0.         0.         0.         0.\n",
      " 1.         0.         0.         0.         0.         0.\n",
      " 0.         0.         0.         0.         0.         1.\n",
      " 1.         1.         1.         1.         1.         0.        ]\n",
      "Statistics \n",
      "Type :\n",
      "1\n",
      "[0.09751883 0.         0.         0.         1.         1.\n",
      " 1.         0.         0.         0.         0.         0.\n",
      " 1.         0.         0.         0.         0.         0.\n",
      " 0.         0.         0.         0.         0.         0.\n",
      " 0.         0.         1.         1.         1.         0.        ]\n",
      "Statistics \n",
      "Type :\n",
      "2\n",
      "[0.05859584 0.         0.         0.         0.         0.\n",
      " 0.         0.         0.         0.         0.         0.\n",
      " 0.         0.         0.         0.         0.         0.\n",
      " 0.         0.         0.         0.         0.         0.\n",
      " 0.         0.         0.         0.         0.         0.        ]\n",
      "Statistics \n",
      "Type :\n",
      "3\n",
      "[0.0666396 0.        0.        0.        0.        0.        0.\n",
      " 0.        0.        0.        0.        0.        0.        0.\n",
      " 0.        0.        0.        0.        0.        0.        0.\n",
      " 0.        0.        0.        0.        0.        0.        0.\n",
      " 0.        0.       ]\n"
     ]
    }
   ],
   "source": [
    "selection = dataStatistics(split_x)"
   ]
  },
  {
   "cell_type": "code",
   "execution_count": 32,
   "metadata": {},
   "outputs": [],
   "source": [
    "cleaned = removeNone(split_x, selection)\n",
    "\n"
   ]
  },
  {
   "cell_type": "markdown",
   "metadata": {},
   "source": [
    "# Now we can either drop the lines with residual Nones or replace the Nones by the median value"
   ]
  },
  {
   "cell_type": "code",
   "execution_count": 33,
   "metadata": {
    "scrolled": true
   },
   "outputs": [],
   "source": [
    "cleaned_with_median = putMedianInsteadOfNone(cleaned)\n",
    "\n",
    "cleaned_with_median_with_momentum = add_momentum_vector(cleaned_with_median)"
   ]
  },
  {
   "cell_type": "code",
   "execution_count": 34,
   "metadata": {
    "scrolled": true
   },
   "outputs": [],
   "source": [
    "dropped_x, dropped_y, dropped_ids = dropLineIfNone(cleaned, split_y, split_ids)\n"
   ]
  },
  {
   "cell_type": "markdown",
   "metadata": {},
   "source": [
    "## At this point, the first values in each of the split data has a PRI_jet_num = 0, then 1 and so on. The data is clean and we can work with it."
   ]
  },
  {
   "cell_type": "markdown",
   "metadata": {},
   "source": [
    "## Generate predictions and save ouput in csv format for submission:"
   ]
  },
  {
   "cell_type": "code",
   "execution_count": 35,
   "metadata": {},
   "outputs": [],
   "source": [
    "DATA_TEST_PATH = '../data/test.csv' \n",
    "y_donotUse, tX_test, ids_test = load_csv_data(DATA_TEST_PATH)"
   ]
  },
  {
   "cell_type": "code",
   "execution_count": null,
   "metadata": {
    "scrolled": true
   },
   "outputs": [
    {
     "name": "stdout",
     "output_type": "stream",
     "text": [
      "Statistics \n",
      "Type :\n",
      "0\n",
      "[0.2605448 0.        0.        0.        1.        1.        1.\n",
      " 0.        0.        0.        0.        0.        1.        0.\n",
      " 0.        0.        0.        0.        0.        0.        0.\n",
      " 0.        0.        1.        1.        1.        1.        1.\n",
      " 1.        0.       ]\n",
      "Statistics \n",
      "Type :\n",
      "1\n",
      "[0.09834149 0.         0.         0.         1.         1.\n",
      " 1.         0.         0.         0.         0.         0.\n",
      " 1.         0.         0.         0.         0.         0.\n",
      " 0.         0.         0.         0.         0.         0.\n",
      " 0.         0.         1.         1.         1.         0.        ]\n",
      "Statistics \n",
      "Type :\n",
      "2\n",
      "[0.05881481 0.         0.         0.         0.         0.\n",
      " 0.         0.         0.         0.         0.         0.\n",
      " 0.         0.         0.         0.         0.         0.\n",
      " 0.         0.         0.         0.         0.         0.\n",
      " 0.         0.         0.         0.         0.         0.        ]\n",
      "Statistics \n",
      "Type :\n",
      "3\n",
      "[0.06376737 0.         0.         0.         0.         0.\n",
      " 0.         0.         0.         0.         0.         0.\n",
      " 0.         0.         0.         0.         0.         0.\n",
      " 0.         0.         0.         0.         0.         0.\n",
      " 0.         0.         0.         0.         0.         0.        ]\n",
      "lambda=0.00010,degree=1, gamma=0.01000, Training Loss=-1157371660738793.0, Testing Loss=-14470070880047.781\n",
      "lambda=0.00010,degree=1, gamma=0.31000, Training Loss=-3.5846366670497296e+16, Testing Loss=-448169800660202.44\n",
      "lambda=0.00010,degree=1, gamma=0.61000, Training Loss=-7.0473199489126616e+16, Testing Loss=-881091612715698.5\n",
      "lambda=0.00010,degree=1, gamma=0.91000, Training Loss=-1.0503797758182837e+17, Testing Loss=-1313236854517071.5\n",
      "lambda=0.00010,degree=2, gamma=0.01000, Training Loss=inf, Testing Loss=-15024356546193.584\n",
      "lambda=0.00010,degree=2, gamma=0.31000, Training Loss=inf, Testing Loss=-465337699559668.5\n",
      "lambda=0.00010,degree=2, gamma=0.61000, Training Loss=inf, Testing Loss=-914844209307464.4\n",
      "lambda=0.00010,degree=2, gamma=0.91000, Training Loss=inf, Testing Loss=-1363545281902473.2\n",
      "lambda=0.00010,degree=3, gamma=0.01000, Training Loss=inf, Testing Loss=-15212164653646.383\n",
      "lambda=0.00010,degree=3, gamma=0.31000, Training Loss=inf, Testing Loss=-471154682003407.2\n",
      "lambda=0.00010,degree=3, gamma=0.61000, Training Loss=inf, Testing Loss=-926280566527619.4\n",
      "lambda=0.00010,degree=3, gamma=0.91000, Training Loss=inf, Testing Loss=-1380591230828837.2\n",
      "lambda=0.00010,degree=4, gamma=0.01000, Training Loss=inf, Testing Loss=-15323170875568.406\n",
      "lambda=0.00010,degree=4, gamma=0.31000, Training Loss=inf, Testing Loss=-474592880188005.0\n",
      "lambda=0.00010,degree=4, gamma=0.61000, Training Loss=inf, Testing Loss=-933040167100048.8\n",
      "lambda=0.00010,degree=4, gamma=0.91000, Training Loss=inf, Testing Loss=-1390666453952639.8\n",
      "lambda=0.00010,degree=5, gamma=0.01000, Training Loss=inf, Testing Loss=-15374100801726.92\n",
      "lambda=0.00010,degree=5, gamma=0.31000, Training Loss=inf, Testing Loss=-476170333357978.5\n",
      "lambda=0.00010,degree=5, gamma=0.61000, Training Loss=inf, Testing Loss=-936141486146357.1\n",
      "lambda=0.00010,degree=5, gamma=0.91000, Training Loss=inf, Testing Loss=-1395288985979175.5\n",
      "lambda=0.00010,degree=6, gamma=0.01000, Training Loss=inf, Testing Loss=-15434430442075.309\n",
      "lambda=0.00010,degree=6, gamma=0.31000, Training Loss=inf, Testing Loss=-478038924895019.56\n",
      "lambda=0.00010,degree=6, gamma=0.61000, Training Loss=inf, Testing Loss=-939815193264606.5\n",
      "lambda=0.00010,degree=6, gamma=0.91000, Training Loss=inf, Testing Loss=-1400764667659350.2\n",
      "lambda=0.00010,degree=7, gamma=0.01000, Training Loss=inf, Testing Loss=-15466908027828.826\n",
      "lambda=0.00010,degree=7, gamma=0.31000, Training Loss=inf, Testing Loss=-479044854053810.9\n",
      "lambda=0.00010,degree=7, gamma=0.61000, Training Loss=inf, Testing Loss=-941792880712389.9\n",
      "lambda=0.00010,degree=7, gamma=0.91000, Training Loss=inf, Testing Loss=-1403712422954577.2\n",
      "lambda=0.00010,degree=8, gamma=0.01000, Training Loss=inf, Testing Loss=-15521462588601.203\n",
      "lambda=0.00010,degree=8, gamma=0.31000, Training Loss=inf, Testing Loss=-480734573474662.8\n",
      "lambda=0.00010,degree=8, gamma=0.61000, Training Loss=inf, Testing Loss=-945114919280802.0\n",
      "lambda=0.00010,degree=8, gamma=0.91000, Training Loss=inf, Testing Loss=-1408663939744699.2\n",
      "lambda=0.00010,degree=9, gamma=0.01000, Training Loss=inf, Testing Loss=-15547569352283.047\n",
      "lambda=0.00010,degree=9, gamma=0.31000, Training Loss=inf, Testing Loss=-481543178691167.56\n",
      "lambda=0.00010,degree=9, gamma=0.61000, Training Loss=inf, Testing Loss=-946704661038560.8\n",
      "lambda=0.00010,degree=9, gamma=0.91000, Training Loss=inf, Testing Loss=-1411033458423307.5\n",
      "lambda=0.00010,degree=10, gamma=0.01000, Training Loss=inf, Testing Loss=-15603085234518.938\n",
      "lambda=0.00010,degree=10, gamma=0.31000, Training Loss=inf, Testing Loss=-483262673436420.5\n",
      "lambda=0.00010,degree=10, gamma=0.61000, Training Loss=inf, Testing Loss=-950085239362735.5\n",
      "lambda=0.00010,degree=10, gamma=0.91000, Training Loss=inf, Testing Loss=-1416072229911656.0\n",
      "lambda=0.00010,degree=11, gamma=0.01000, Training Loss=inf, Testing Loss=-15623932792612.18\n",
      "lambda=0.00010,degree=11, gamma=0.31000, Training Loss=inf, Testing Loss=-483908385471508.44\n",
      "lambda=0.00010,degree=11, gamma=0.61000, Training Loss=inf, Testing Loss=-951354728859158.5\n",
      "lambda=0.00010,degree=11, gamma=0.91000, Training Loss=inf, Testing Loss=-1417964411682086.5\n",
      "lambda=0.00010,degree=12, gamma=0.01000, Training Loss=inf, Testing Loss=-15682057627693.127\n",
      "lambda=0.00010,degree=12, gamma=0.31000, Training Loss=inf, Testing Loss=-485708687455687.5\n",
      "lambda=0.00010,degree=12, gamma=0.61000, Training Loss=inf, Testing Loss=-954894176795707.8\n",
      "lambda=0.00010,degree=12, gamma=0.91000, Training Loss=inf, Testing Loss=-1423239979471387.0\n",
      "lambda=0.00010,degree=13, gamma=0.01000, Training Loss=inf, Testing Loss=-15697911037773.129\n",
      "lambda=0.00010,degree=13, gamma=0.31000, Training Loss=inf, Testing Loss=-486199715828363.0\n",
      "lambda=0.00010,degree=13, gamma=0.61000, Training Loss=inf, Testing Loss=-955859553966059.1\n",
      "lambda=0.00010,degree=13, gamma=0.91000, Training Loss=inf, Testing Loss=-1424678880664510.8\n",
      "lambda=0.10010,degree=1, gamma=0.01000, Training Loss=-1123432545874019.5, Testing Loss=-14045359954069.992\n",
      "lambda=0.10010,degree=1, gamma=0.31000, Training Loss=-1.6118071738418518e+16, Testing Loss=-201435045298778.78\n",
      "lambda=0.10010,degree=1, gamma=0.61000, Training Loss=-1.8353050288542012e+16, Testing Loss=-229352194200835.94\n",
      "lambda=0.10010,degree=1, gamma=0.91000, Training Loss=-1.864340932698606e+16, Testing Loss=-232978465378691.78\n",
      "lambda=0.10010,degree=2, gamma=0.01000, Training Loss=inf, Testing Loss=-14583849296105.133\n",
      "lambda=0.10010,degree=2, gamma=0.31000, Training Loss=inf, Testing Loss=-209309552975140.16\n",
      "lambda=0.10010,degree=2, gamma=0.61000, Training Loss=inf, Testing Loss=-238389521199666.1\n",
      "lambda=0.10010,degree=2, gamma=0.91000, Training Loss=inf, Testing Loss=-242178704756871.53\n",
      "lambda=0.10010,degree=3, gamma=0.01000, Training Loss=inf, Testing Loss=-14766303785278.287\n",
      "lambda=0.10010,degree=3, gamma=0.31000, Training Loss=inf, Testing Loss=-211977929709522.44\n",
      "lambda=0.10010,degree=3, gamma=0.61000, Training Loss=inf, Testing Loss=-241452169975561.3\n",
      "lambda=0.10010,degree=3, gamma=0.91000, Training Loss=inf, Testing Loss=-245296639607763.4\n",
      "lambda=0.10010,degree=4, gamma=0.01000, Training Loss=inf, Testing Loss=-14874147147907.705\n",
      "lambda=0.10010,degree=4, gamma=0.31000, Training Loss=inf, Testing Loss=-213555417440465.9\n",
      "lambda=0.10010,degree=4, gamma=0.61000, Training Loss=inf, Testing Loss=-243262866929166.62\n",
      "lambda=0.10010,degree=4, gamma=0.91000, Training Loss=inf, Testing Loss=-247140039024375.9\n",
      "lambda=0.10010,degree=5, gamma=0.01000, Training Loss=inf, Testing Loss=-14923628484585.92\n",
      "lambda=0.10010,degree=5, gamma=0.31000, Training Loss=inf, Testing Loss=-214278922878232.56\n",
      "lambda=0.10010,degree=5, gamma=0.61000, Training Loss=inf, Testing Loss=-244093200569655.78\n",
      "lambda=0.10010,degree=5, gamma=0.91000, Training Loss=inf, Testing Loss=-247985339265959.38\n",
      "lambda=0.10010,degree=6, gamma=0.01000, Training Loss=inf, Testing Loss=-14982239415050.139\n",
      "lambda=0.10010,degree=6, gamma=0.31000, Training Loss=inf, Testing Loss=-215136500377370.1\n"
     ]
    },
    {
     "name": "stdout",
     "output_type": "stream",
     "text": [
      "lambda=0.10010,degree=6, gamma=0.61000, Training Loss=inf, Testing Loss=-245077698004456.44\n",
      "lambda=0.10010,degree=6, gamma=0.91000, Training Loss=inf, Testing Loss=-248987955536784.56\n",
      "lambda=0.10010,degree=7, gamma=0.01000, Training Loss=inf, Testing Loss=-15013792152402.926\n",
      "lambda=0.10010,degree=7, gamma=0.31000, Training Loss=inf, Testing Loss=-215597888810504.88\n",
      "lambda=0.10010,degree=7, gamma=0.61000, Training Loss=inf, Testing Loss=-245607151431493.7\n",
      "lambda=0.10010,degree=7, gamma=0.91000, Training Loss=inf, Testing Loss=-249526638238589.8\n",
      "lambda=0.10010,degree=8, gamma=0.01000, Training Loss=inf, Testing Loss=-15066792291478.574\n",
      "lambda=0.10010,degree=8, gamma=0.31000, Training Loss=inf, Testing Loss=-216372955481398.3\n",
      "lambda=0.10010,degree=8, gamma=0.61000, Training Loss=inf, Testing Loss=-246496744426732.6\n",
      "lambda=0.10010,degree=8, gamma=0.91000, Training Loss=inf, Testing Loss=-250432294241944.25\n",
      "lambda=0.10010,degree=9, gamma=0.01000, Training Loss=inf, Testing Loss=-15092155136164.21\n",
      "lambda=0.10010,degree=9, gamma=0.31000, Training Loss=inf, Testing Loss=-216743876422966.1\n",
      "lambda=0.10010,degree=9, gamma=0.61000, Training Loss=inf, Testing Loss=-246922453200471.84\n",
      "lambda=0.10010,degree=9, gamma=0.91000, Training Loss=inf, Testing Loss=-250865689762724.5\n",
      "lambda=0.10010,degree=10, gamma=0.01000, Training Loss=inf, Testing Loss=-15146089515204.244\n",
      "lambda=0.10010,degree=10, gamma=0.31000, Training Loss=inf, Testing Loss=-217532817706354.03\n"
     ]
    }
   ],
   "source": [
    "#separate data with respect to column 24 and remove None\n",
    "split_x_test, _, split_ids_test =  separate(y_donotUse, tX_test, ids_test)\n",
    "\n",
    "\n",
    "split_x_cleaned_test = removeNone(split_x_test, dataStatistics(split_x_test))\n",
    "\n",
    "#median instead of None\n",
    "split_x_with_median = putMedianInsteadOfNone(split_x_cleaned_test)\n",
    "\n",
    "split_x_with_median_with_momentum = add_momentum_vector(split_x_with_median)\n",
    "\n",
    "#line dropped when None\n",
    "#split_x_drop_lines, split_y_dropped_split_indexes_dropped = dropLineIfNone(split_x_cleaned_test, _, split_ids_test)\n",
    "\n",
    "#degrees for polynomial feature expension\n",
    "degrees = [1,2,3,4,5,6,7,8,9,10,11,12,13]\n",
    "\n",
    "y_res = []\n",
    "\n",
    "acc = []\n",
    "\n",
    "\n",
    "\n",
    "\n",
    "for i in range(len(cleaned_with_median)):\n",
    "    \n",
    "    \n",
    "    \n",
    "    #training: chose either cross calidation or cross validation for logistic regression with regularization\n",
    "    #w_star, d, accuracy, training_set = crossValidation_with_loss(cleaned_with_median[i], split_y[i], 0.98, degrees ,6)\n",
    "    w_star, d, accuracy, training_set = crossValidationForLogistic_reg_with_loss(cleaned_with_median[i], split_y[i], 0.9, degrees ,6)\n",
    "    \n",
    "    \n",
    "    #polynomial feature expension and normalization using the training data\n",
    "    mean = np.mean(build_poly(training_set,d), axis = 0)\n",
    "    std = np.std(build_poly(training_set,d), axis = 0)\n",
    "    \n",
    "      \n",
    "    #put 1 if std = 0\n",
    "    std = std + (std == 0)\n",
    "    \n",
    "    extended_and_normalized = (build_poly(split_x_with_median[i], d) - mean) / std\n",
    "    \n",
    "    #adding bias term\n",
    "    bias = np.ones(shape=split_x_with_median[i].shape)          \n",
    "    x_test_ready = np.c_[bias, extended_and_normalized]\n",
    "    \n",
    "    #prediction\n",
    "    y_res.append(predict_labels(w_star, x_test_ready))\n",
    "\n",
    "\n",
    "    acc.append(accuracy)\n",
    "\n",
    "print(\"Accuracy per jet nbr: \\n\")\n",
    "print(acc)\n"
   ]
  },
  {
   "cell_type": "code",
   "execution_count": 41,
   "metadata": {},
   "outputs": [],
   "source": [
    "OUTPUT_PATH = '../data/submission.csv'\n",
    "#reassemble the data for the submission\n",
    "y_pred = put_together(y_res, split_ids_test)\n",
    "create_csv_submission(ids_test, y_pred, OUTPUT_PATH)"
   ]
  }
 ],
 "metadata": {
  "anaconda-cloud": {},
  "kernelspec": {
   "display_name": "Python 3",
   "language": "python",
   "name": "python3"
  },
  "language_info": {
   "codemirror_mode": {
    "name": "ipython",
    "version": 3
   },
   "file_extension": ".py",
   "mimetype": "text/x-python",
   "name": "python",
   "nbconvert_exporter": "python",
   "pygments_lexer": "ipython3",
   "version": "3.7.3"
  }
 },
 "nbformat": 4,
 "nbformat_minor": 1
}
