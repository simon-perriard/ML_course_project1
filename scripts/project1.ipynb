{
 "cells": [
  {
   "cell_type": "code",
   "execution_count": 1,
   "metadata": {
    "scrolled": true
   },
   "outputs": [],
   "source": [
    "# Useful starting lines\n",
    "%matplotlib inline\n",
    "import numpy as np\n",
    "import matplotlib.pyplot as plt\n",
    "%load_ext autoreload\n",
    "%autoreload 2"
   ]
  },
  {
   "cell_type": "markdown",
   "metadata": {},
   "source": [
    "## Load the training data into feature matrix, class labels, and event ids:"
   ]
  },
  {
   "cell_type": "code",
   "execution_count": 107,
   "metadata": {
    "scrolled": true
   },
   "outputs": [],
   "source": [
    "from proj1_helpers import *\n",
    "from validation_helpers import *\n",
    "from plots import *\n",
    "DATA_TRAIN_PATH = '../data/train.csv' \n",
    "y, tX, ids = load_csv_data(DATA_TRAIN_PATH)"
   ]
  },
  {
   "cell_type": "code",
   "execution_count": 108,
   "metadata": {},
   "outputs": [],
   "source": [
    "from implementations import *"
   ]
  },
  {
   "cell_type": "markdown",
   "metadata": {},
   "source": [
    "## Do your thing crazy machine learning thing here :) ..."
   ]
  },
  {
   "cell_type": "code",
   "execution_count": 4,
   "metadata": {},
   "outputs": [],
   "source": [
    "split_x, split_y, split_ids = separate(y, tX, ids)"
   ]
  },
  {
   "cell_type": "code",
   "execution_count": 5,
   "metadata": {
    "scrolled": true
   },
   "outputs": [
    {
     "name": "stdout",
     "output_type": "stream",
     "text": [
      "Statistics \n",
      "Type :\n",
      "0\n",
      "[0.26145747 0.         0.         0.         1.         1.\n",
      " 1.         0.         0.         0.         0.         0.\n",
      " 1.         0.         0.         0.         0.         0.\n",
      " 0.         0.         0.         0.         0.         1.\n",
      " 1.         1.         1.         1.         1.         0.        ]\n",
      "Statistics \n",
      "Type :\n",
      "1\n",
      "[0.09751883 0.         0.         0.         1.         1.\n",
      " 1.         0.         0.         0.         0.         0.\n",
      " 1.         0.         0.         0.         0.         0.\n",
      " 0.         0.         0.         0.         0.         0.\n",
      " 0.         0.         1.         1.         1.         0.        ]\n",
      "Statistics \n",
      "Type :\n",
      "2\n",
      "[0.05859584 0.         0.         0.         0.         0.\n",
      " 0.         0.         0.         0.         0.         0.\n",
      " 0.         0.         0.         0.         0.         0.\n",
      " 0.         0.         0.         0.         0.         0.\n",
      " 0.         0.         0.         0.         0.         0.        ]\n",
      "Statistics \n",
      "Type :\n",
      "3\n",
      "[0.0666396 0.        0.        0.        0.        0.        0.\n",
      " 0.        0.        0.        0.        0.        0.        0.\n",
      " 0.        0.        0.        0.        0.        0.        0.\n",
      " 0.        0.        0.        0.        0.        0.        0.\n",
      " 0.        0.       ]\n"
     ]
    }
   ],
   "source": [
    "selection = dataStatistics(split_x)"
   ]
  },
  {
   "cell_type": "code",
   "execution_count": 6,
   "metadata": {},
   "outputs": [],
   "source": [
    "cleaned = removeNone(split_x, selection)\n",
    "\n"
   ]
  },
  {
   "cell_type": "markdown",
   "metadata": {},
   "source": [
    "# Now we can either drop the lines with residual Nones or replace the Nones by the median value"
   ]
  },
  {
   "cell_type": "code",
   "execution_count": 7,
   "metadata": {
    "scrolled": true
   },
   "outputs": [],
   "source": [
    "cleaned_with_median = putMedianInsteadOfNone(cleaned)\n",
    "\n",
    "cleaned_with_median_with_momentum = add_momentum_vector(cleaned_with_median)"
   ]
  },
  {
   "cell_type": "code",
   "execution_count": 8,
   "metadata": {
    "scrolled": true
   },
   "outputs": [],
   "source": [
    "dropped_x, dropped_y, dropped_ids = dropLineIfNone(cleaned, split_y, split_ids)\n"
   ]
  },
  {
   "cell_type": "markdown",
   "metadata": {},
   "source": [
    "## At this point, the first values in each of the split data has a PRI_jet_num = 0, then 1 and so on. The data is clean and we can work with it."
   ]
  },
  {
   "cell_type": "markdown",
   "metadata": {},
   "source": [
    "## Generate predictions and save ouput in csv format for submission:"
   ]
  },
  {
   "cell_type": "code",
   "execution_count": 9,
   "metadata": {},
   "outputs": [],
   "source": [
    "DATA_TEST_PATH = '../data/test.csv' \n",
    "y_donotUse, tX_test, ids_test = load_csv_data(DATA_TEST_PATH)"
   ]
  },
  {
   "cell_type": "code",
   "execution_count": null,
   "metadata": {
    "scrolled": true
   },
   "outputs": [
    {
     "name": "stdout",
     "output_type": "stream",
     "text": [
      "Statistics \n",
      "Type :\n",
      "0\n",
      "[0.2605448 0.        0.        0.        1.        1.        1.\n",
      " 0.        0.        0.        0.        0.        1.        0.\n",
      " 0.        0.        0.        0.        0.        0.        0.\n",
      " 0.        0.        1.        1.        1.        1.        1.\n",
      " 1.        0.       ]\n",
      "Statistics \n",
      "Type :\n",
      "1\n",
      "[0.09834149 0.         0.         0.         1.         1.\n",
      " 1.         0.         0.         0.         0.         0.\n",
      " 1.         0.         0.         0.         0.         0.\n",
      " 0.         0.         0.         0.         0.         0.\n",
      " 0.         0.         1.         1.         1.         0.        ]\n",
      "Statistics \n",
      "Type :\n",
      "2\n",
      "[0.05881481 0.         0.         0.         0.         0.\n",
      " 0.         0.         0.         0.         0.         0.\n",
      " 0.         0.         0.         0.         0.         0.\n",
      " 0.         0.         0.         0.         0.         0.\n",
      " 0.         0.         0.         0.         0.         0.        ]\n",
      "Statistics \n",
      "Type :\n",
      "3\n",
      "[0.06376737 0.         0.         0.         0.         0.\n",
      " 0.         0.         0.         0.         0.         0.\n",
      " 0.         0.         0.         0.         0.         0.\n",
      " 0.         0.         0.         0.         0.         0.\n",
      " 0.         0.         0.         0.         0.         0.        ]\n",
      "lambda=0.00000,degree=1, Training Accuracy=0.25510141552791227, Testing Accuracy=0.2571285642821411\n",
      "lambda=0.00000,degree=2, Training Accuracy=0.2560512286292052, Testing Accuracy=0.2586293146573287\n",
      "lambda=0.00000,degree=3, Training Accuracy=0.2691443511653083, Testing Accuracy=0.2751375687843922\n",
      "lambda=0.00000,degree=4, Training Accuracy=0.27531302980166267, Testing Accuracy=0.28264132066033015\n",
      "lambda=0.00000,degree=5, Training Accuracy=0.2866597217966787, Testing Accuracy=0.29164582291145574\n",
      "lambda=0.00000,degree=6, Training Accuracy=0.28951937414465756, Testing Accuracy=0.2941470735367684\n",
      "lambda=0.00000,degree=7, Training Accuracy=0.29696468329350245, Testing Accuracy=0.29964982491245623\n",
      "lambda=0.00000,degree=8, Training Accuracy=0.5286271626120882, Testing Accuracy=0.5312656328164082\n",
      "lambda=0.00000,degree=9, Training Accuracy=0.5332945237657536, Testing Accuracy=0.536768384192096\n",
      "lambda=0.00000,degree=10, Training Accuracy=0.5339379455440488, Testing Accuracy=0.5372686343171585\n",
      "lambda=0.00000,degree=11, Training Accuracy=0.5380742284045182, Testing Accuracy=0.5392696348174087\n",
      "lambda=0.00000,degree=12, Training Accuracy=0.5383193414629165, Testing Accuracy=0.5392696348174087\n",
      "lambda=0.00000,degree=13, Training Accuracy=0.5418530547214903, Testing Accuracy=0.5377688844422212\n",
      "lambda=0.00000,degree=14, Training Accuracy=0.5426803112935842, Testing Accuracy=0.5392696348174087\n",
      "lambda=0.00000,degree=15, Training Accuracy=0.5455910288620627, Testing Accuracy=0.5427713856928464\n",
      "lambda=0.00000,degree=16, Training Accuracy=0.5470412811242519, Testing Accuracy=0.5407703851925963\n",
      "lambda=0.00100,degree=1, Training Accuracy=0.7509753457115428, Testing Accuracy=0.7473736868434218\n",
      "lambda=0.00100,degree=2, Training Accuracy=0.8244071327899994, Testing Accuracy=0.8284142071035517\n",
      "lambda=0.00100,degree=3, Training Accuracy=0.7603100680188737, Testing Accuracy=0.7618809404702351\n",
      "lambda=0.00100,degree=4, Training Accuracy=0.8276242416814755, Testing Accuracy=0.8304152076038019\n",
      "lambda=0.00100,degree=5, Training Accuracy=0.8210061891047246, Testing Accuracy=0.8239119559779889\n",
      "lambda=0.00100,degree=6, Training Accuracy=0.7699613946933023, Testing Accuracy=0.7718859429714857\n",
      "lambda=0.00100,degree=7, Training Accuracy=0.7968727658966032, Testing Accuracy=0.7988994497248624\n",
      "lambda=0.00100,degree=8, Training Accuracy=0.47450824192658864, Testing Accuracy=0.47223611805902954\n",
      "lambda=0.00100,degree=9, Training Accuracy=0.8114467798271953, Testing Accuracy=0.8119059529764883\n",
      "lambda=0.00100,degree=10, Training Accuracy=0.7447556018546888, Testing Accuracy=0.742871435717859\n",
      "lambda=0.00100,degree=11, Training Accuracy=0.7622709724860592, Testing Accuracy=0.7638819409704852\n",
      "lambda=0.00100,degree=12, Training Accuracy=0.7502297934922483, Testing Accuracy=0.7478739369684843\n",
      "lambda=0.00100,degree=13, Training Accuracy=0.7448475192515881, Testing Accuracy=0.742871435717859\n",
      "lambda=0.00100,degree=14, Training Accuracy=0.7502195804481484, Testing Accuracy=0.7478739369684843\n",
      "lambda=0.00100,degree=15, Training Accuracy=0.7846171129766938, Testing Accuracy=0.7868934467233617\n",
      "lambda=0.00100,degree=16, Training Accuracy=0.7729844557468799, Testing Accuracy=0.776888444222111\n",
      "lambda=0.00200,degree=1, Training Accuracy=0.4437771922299161, Testing Accuracy=0.4412206103051526\n",
      "lambda=0.00200,degree=2, Training Accuracy=0.7448985844720878, Testing Accuracy=0.742871435717859\n",
      "lambda=0.00200,degree=3, Training Accuracy=0.49501603447923687, Testing Accuracy=0.4867433716858429\n",
      "lambda=0.00200,degree=4, Training Accuracy=0.8277570112547746, Testing Accuracy=0.8309154577288644\n",
      "lambda=0.00200,degree=5, Training Accuracy=0.8260514328900872, Testing Accuracy=0.8294147073536768\n",
      "lambda=0.00200,degree=6, Training Accuracy=0.7473803541883693, Testing Accuracy=0.7453726863431716\n",
      "lambda=0.00200,degree=7, Training Accuracy=0.8083011622444186, Testing Accuracy=0.806903451725863\n",
      "lambda=0.00200,degree=8, Training Accuracy=0.81892272810834, Testing Accuracy=0.8149074537268635\n",
      "lambda=0.00200,degree=9, Training Accuracy=0.7932062830647303, Testing Accuracy=0.7963981990995498\n",
      "lambda=0.00200,degree=10, Training Accuracy=0.7448066670751884, Testing Accuracy=0.742871435717859\n",
      "lambda=0.00200,degree=11, Training Accuracy=0.8018260922850665, Testing Accuracy=0.80040020010005\n",
      "lambda=0.00200,degree=12, Training Accuracy=0.7942684396511224, Testing Accuracy=0.7953976988494247\n",
      "lambda=0.00200,degree=13, Training Accuracy=0.7448577322956881, Testing Accuracy=0.742871435717859\n",
      "lambda=0.00200,degree=14, Training Accuracy=0.7910206916273465, Testing Accuracy=0.7898949474737369\n",
      "lambda=0.00200,degree=15, Training Accuracy=0.7527626284290295, Testing Accuracy=0.7508754377188595\n",
      "lambda=0.00200,degree=16, Training Accuracy=0.7621994811773597, Testing Accuracy=0.7628814407203601\n",
      "lambda=0.00000,degree=1, Training Accuracy=0.3579277038674615, Testing Accuracy=0.3288201160541586\n",
      "lambda=0.00000,degree=2, Training Accuracy=0.3587304093798113, Testing Accuracy=0.3288201160541586\n",
      "lambda=0.00000,degree=3, Training Accuracy=0.37187635703288463, Testing Accuracy=0.3404255319148936\n",
      "lambda=0.00000,degree=4, Training Accuracy=0.3831931888463411, Testing Accuracy=0.35654416505480335\n",
      "lambda=0.00000,degree=5, Training Accuracy=0.40266866685089414, Testing Accuracy=0.3778207607994842\n",
      "lambda=0.00000,degree=6, Training Accuracy=0.49004513573618624, Testing Accuracy=0.47130883301096066\n",
      "lambda=0.00000,degree=7, Training Accuracy=0.5010856263076863, Testing Accuracy=0.475177304964539\n",
      "lambda=0.00000,degree=8, Training Accuracy=0.5065992920400563, Testing Accuracy=0.49065119277885233\n",
      "lambda=0.00000,degree=9, Training Accuracy=0.5126524811495796, Testing Accuracy=0.4880722114764668\n",
      "lambda=0.00000,degree=10, Training Accuracy=0.5161922808679746, Testing Accuracy=0.4938749194068343\n",
      "lambda=0.00000,degree=11, Training Accuracy=0.5211401050096719, Testing Accuracy=0.49258542875564154\n",
      "lambda=0.00000,degree=12, Training Accuracy=0.5235613806534812, Testing Accuracy=0.498388136686009\n"
     ]
    }
   ],
   "source": [
    "#separate data with respect to column 24 and remove None\n",
    "split_x_test, _, split_ids_test =  separate(y_donotUse, tX_test, ids_test)\n",
    "\n",
    "\n",
    "split_x_cleaned_test = removeNone(split_x_test, dataStatistics(split_x_test))\n",
    "\n",
    "#median instead of None\n",
    "split_x_with_median = putMedianInsteadOfNone(split_x_cleaned_test)\n",
    "\n",
    "split_x_with_median_with_momentum = add_momentum_vector(split_x_with_median)\n",
    "\n",
    "#line dropped when None\n",
    "#split_x_drop_lines, split_y_dropped_split_indexes_dropped = dropLineIfNone(split_x_cleaned_test, _, split_ids_test)\n",
    "\n",
    "#degrees for polynomial feature expension\n",
    "degrees = [1,2,3,4,5,6,7,8,9,10,11,12,13,14,15,16]\n",
    "\n",
    "y_res = []\n",
    "\n",
    "acc = []\n",
    "\n",
    "plot_data_per_jetnum = []\n",
    "\n",
    "\n",
    "for i in range(len(cleaned_with_median)):\n",
    "    \n",
    "    \n",
    "    \n",
    "    #training: chose either cross calidation or cross validation for logistic regression with regularization\n",
    "    w_star, d, accuracy, training_set, plot_data = crossValidation(cleaned_with_median[i], split_y[i], 0.98, degrees ,6)\n",
    "    #w_star, d, accuracy, training_set, plot_data = crossValidationForLogistic_reg_with_loss(cleaned_with_median[i], split_y[i], 0.9, degrees ,6)\n",
    "    \n",
    "    \n",
    "    #polynomial feature expension and normalization using the training data\n",
    "    mean = np.mean(build_poly(training_set,d), axis = 0)\n",
    "    std = np.std(build_poly(training_set,d), axis = 0)\n",
    "    \n",
    "      \n",
    "    #put 1 if std = 0\n",
    "    std = std + (std == 0)\n",
    "    \n",
    "    extended_and_normalized = (build_poly(split_x_with_median[i], d) - mean) / std\n",
    "    \n",
    "    #adding bias term\n",
    "    bias = np.ones(shape=split_x_with_median[i].shape)          \n",
    "    x_test_ready = np.c_[bias, extended_and_normalized]\n",
    "    \n",
    "    #prediction for least squares\n",
    "    #y_res.append(predict_labels(w_star, x_test_ready))\n",
    "    \n",
    "    #prediction for logistic\n",
    "    y_res.append(predict_labels_logistic(w_star, x_test_ready))\n",
    "    \n",
    "\n",
    "\n",
    "    acc.append(accuracy)\n",
    "    plot_data_per_jetnum.append(plot_data)\n",
    "\n",
    "print(\"Accuracy per jet nbr: \\n\")\n",
    "print(acc)\n"
   ]
  },
  {
   "cell_type": "code",
   "execution_count": 54,
   "metadata": {
    "scrolled": false
   },
   "outputs": [
    {
     "ename": "TypeError",
     "evalue": "stem() got an unexpected keyword argument 'use_line_collection'",
     "output_type": "error",
     "traceback": [
      "\u001b[0;31m---------------------------------------------------------------------------\u001b[0m",
      "\u001b[0;31mTypeError\u001b[0m                                 Traceback (most recent call last)",
      "\u001b[0;32m<ipython-input-54-18701bf9b52e>\u001b[0m in \u001b[0;36m<module>\u001b[0;34m\u001b[0m\n\u001b[1;32m     22\u001b[0m     \u001b[0maxes\u001b[0m\u001b[0;34m.\u001b[0m\u001b[0mset_ylim\u001b[0m\u001b[0;34m(\u001b[0m\u001b[0;34m[\u001b[0m\u001b[0;36m0.7\u001b[0m\u001b[0;34m,\u001b[0m\u001b[0;36m0.86\u001b[0m\u001b[0;34m]\u001b[0m\u001b[0;34m)\u001b[0m\u001b[0;34m\u001b[0m\u001b[0;34m\u001b[0m\u001b[0m\n\u001b[1;32m     23\u001b[0m \u001b[0;34m\u001b[0m\u001b[0m\n\u001b[0;32m---> 24\u001b[0;31m     \u001b[0mplt\u001b[0m\u001b[0;34m.\u001b[0m\u001b[0mstem\u001b[0m\u001b[0;34m(\u001b[0m\u001b[0mY\u001b[0m\u001b[0;34m,\u001b[0m \u001b[0mZ\u001b[0m\u001b[0;34m,\u001b[0m \u001b[0muse_line_collection\u001b[0m\u001b[0;34m=\u001b[0m\u001b[0;32mTrue\u001b[0m\u001b[0;34m,\u001b[0m \u001b[0mlabel\u001b[0m\u001b[0;34m=\u001b[0m\u001b[0;34m\"hello\"\u001b[0m\u001b[0;34m)\u001b[0m\u001b[0;34m\u001b[0m\u001b[0;34m\u001b[0m\u001b[0m\n\u001b[0m\u001b[1;32m     25\u001b[0m     \u001b[0mplt\u001b[0m\u001b[0;34m.\u001b[0m\u001b[0msavefig\u001b[0m\u001b[0;34m(\u001b[0m\u001b[0;34m\"cross_with_momentum_\"\u001b[0m\u001b[0;34m+\u001b[0m\u001b[0mstr\u001b[0m\u001b[0;34m(\u001b[0m\u001b[0mi\u001b[0m\u001b[0;34m)\u001b[0m\u001b[0;34m)\u001b[0m\u001b[0;34m\u001b[0m\u001b[0;34m\u001b[0m\u001b[0m\n\u001b[1;32m     26\u001b[0m     \u001b[0mplt\u001b[0m\u001b[0;34m.\u001b[0m\u001b[0mshow\u001b[0m\u001b[0;34m(\u001b[0m\u001b[0;34m)\u001b[0m\u001b[0;34m\u001b[0m\u001b[0;34m\u001b[0m\u001b[0m\n",
      "\u001b[0;31mTypeError\u001b[0m: stem() got an unexpected keyword argument 'use_line_collection'"
     ]
    },
    {
     "data": {
      "image/png": "[encoded data removed]",
      "text/plain": [
       "<Figure size 720x480 with 1 Axes>"
      ]
     },
     "metadata": {
      "needs_background": "light"
     },
     "output_type": "display_data"
    }
   ],
   "source": [
    "from mpl_toolkits.mplot3d import Axes3D\n",
    "import matplotlib.pyplot as plt\n",
    "from matplotlib import cm\n",
    "from matplotlib.ticker import LinearLocator, FormatStrFormatter\n",
    "\n",
    "for i in range(len(plot_data_per_jetnum)):\n",
    "    jet_num = plot_data_per_jetnum[i]\n",
    "\n",
    "\n",
    "\n",
    "    X = np.array([x[0] for x in jet_num])\n",
    "    Y = np.array([x[1] for x in jet_num])\n",
    "    Z = np.array([x[3] for x in jet_num])\n",
    "    \n",
    "\n",
    "    plt.figure(dpi=120)\n",
    "    plt.title('Degree against accuracy for jet_num = %d' %i)\n",
    "    plt.xlabel('Degree of polynomial extension')\n",
    "    plt.ylabel('Testing Accuracy')\n",
    "\n",
    "    axes = plt.gca()\n",
    "    axes.set_ylim([0.7,0.86])\n",
    "\n",
    "    plt.stem(Y, Z, use_line_collection=True, label=\"hello\")\n",
    "    plt.savefig(\"cross_with_momentum_\"+str(i))\n",
    "    plt.show()\n"
   ]
  },
  {
   "cell_type": "code",
   "execution_count": 98,
   "metadata": {},
   "outputs": [],
   "source": [
    "OUTPUT_PATH = '../data/submission.csv'\n",
    "#reassemble the data for the submission\n",
    "y_pred = put_together(y_res, split_ids_test)\n",
    "create_csv_submission(ids_test, y_pred, OUTPUT_PATH)"
   ]
  }
 ],
 "metadata": {
  "anaconda-cloud": {},
  "kernelspec": {
   "display_name": "Python 3",
   "language": "python",
   "name": "python3"
  },
  "language_info": {
   "codemirror_mode": {
    "name": "ipython",
    "version": 3
   },
   "file_extension": ".py",
   "mimetype": "text/x-python",
   "name": "python",
   "nbconvert_exporter": "python",
   "pygments_lexer": "ipython3",
   "version": "3.7.3"
  }
 },
 "nbformat": 4,
 "nbformat_minor": 1
}
