{
 "cells": [
  {
   "cell_type": "code",
   "execution_count": 1,
   "metadata": {
    "scrolled": true
   },
   "outputs": [],
   "source": [
    "# Useful starting lines\n",
    "%matplotlib inline\n",
    "import numpy as np\n",
    "import matplotlib.pyplot as plt\n",
    "%load_ext autoreload\n",
    "%autoreload 2"
   ]
  },
  {
   "cell_type": "markdown",
   "metadata": {},
   "source": [
    "## Load the training data into feature matrix, class labels, and event ids:"
   ]
  },
  {
   "cell_type": "code",
   "execution_count": 2,
   "metadata": {
    "scrolled": true
   },
   "outputs": [],
   "source": [
    "from proj1_helpers import *\n",
    "from validation_helpers import *\n",
    "from plots import *\n",
    "DATA_TRAIN_PATH = '../data/train.csv' \n",
    "y, tX, ids = load_csv_data(DATA_TRAIN_PATH)"
   ]
  },
  {
   "cell_type": "code",
   "execution_count": 3,
   "metadata": {},
   "outputs": [],
   "source": [
    "from implementations import *"
   ]
  },
  {
   "cell_type": "markdown",
   "metadata": {},
   "source": [
    "## Do your thing crazy machine learning thing here :) ..."
   ]
  },
  {
   "cell_type": "code",
   "execution_count": 4,
   "metadata": {},
   "outputs": [],
   "source": [
    "split_x, split_y, split_ids = separate(y, tX, ids)"
   ]
  },
  {
   "cell_type": "code",
   "execution_count": 5,
   "metadata": {
    "scrolled": true
   },
   "outputs": [
    {
     "name": "stdout",
     "output_type": "stream",
     "text": [
      "Statistics \n",
      "Type :\n",
      "0\n",
      "[0.26145747 0.         0.         0.         1.         1.\n",
      " 1.         0.         0.         0.         0.         0.\n",
      " 1.         0.         0.         0.         0.         0.\n",
      " 0.         0.         0.         0.         0.         1.\n",
      " 1.         1.         1.         1.         1.         0.        ]\n",
      "Statistics \n",
      "Type :\n",
      "1\n",
      "[0.09751883 0.         0.         0.         1.         1.\n",
      " 1.         0.         0.         0.         0.         0.\n",
      " 1.         0.         0.         0.         0.         0.\n",
      " 0.         0.         0.         0.         0.         0.\n",
      " 0.         0.         1.         1.         1.         0.        ]\n",
      "Statistics \n",
      "Type :\n",
      "2\n",
      "[0.05859584 0.         0.         0.         0.         0.\n",
      " 0.         0.         0.         0.         0.         0.\n",
      " 0.         0.         0.         0.         0.         0.\n",
      " 0.         0.         0.         0.         0.         0.\n",
      " 0.         0.         0.         0.         0.         0.        ]\n",
      "Statistics \n",
      "Type :\n",
      "3\n",
      "[0.0666396 0.        0.        0.        0.        0.        0.\n",
      " 0.        0.        0.        0.        0.        0.        0.\n",
      " 0.        0.        0.        0.        0.        0.        0.\n",
      " 0.        0.        0.        0.        0.        0.        0.\n",
      " 0.        0.       ]\n"
     ]
    }
   ],
   "source": [
    "selection = dataStatistics(split_x)"
   ]
  },
  {
   "cell_type": "code",
   "execution_count": 7,
   "metadata": {},
   "outputs": [],
   "source": [
    "cleaned = removeNone(split_x, selection)\n",
    "\n"
   ]
  },
  {
   "cell_type": "markdown",
   "metadata": {},
   "source": [
    "# Now we can either drop the lines with residual Nones or replace the Nones by the median value"
   ]
  },
  {
   "cell_type": "code",
   "execution_count": 8,
   "metadata": {
    "scrolled": true
   },
   "outputs": [],
   "source": [
    "cleaned_with_median = putMedianInsteadOfNone(cleaned)\n",
    "\n",
    "cleaned_with_median_with_momentum = add_momentum_vector(cleaned_with_median)"
   ]
  },
  {
   "cell_type": "code",
   "execution_count": 9,
   "metadata": {
    "scrolled": true
   },
   "outputs": [],
   "source": [
    "dropped_x, dropped_y, dropped_ids = dropLineIfNone(cleaned, split_y, split_ids)\n"
   ]
  },
  {
   "cell_type": "markdown",
   "metadata": {},
   "source": [
    "## At this point, the first values in each of the split data has a PRI_jet_num = 0, then 1 and so on. The data is clean and we can work with it."
   ]
  },
  {
   "cell_type": "markdown",
   "metadata": {},
   "source": [
    "## Generate predictions and save ouput in csv format for submission:"
   ]
  },
  {
   "cell_type": "code",
   "execution_count": 10,
   "metadata": {},
   "outputs": [],
   "source": [
    "DATA_TEST_PATH = '../data/test.csv' \n",
    "y_donotUse, tX_test, ids_test = load_csv_data(DATA_TEST_PATH)"
   ]
  },
  {
   "cell_type": "code",
   "execution_count": 13,
   "metadata": {
    "scrolled": true
   },
   "outputs": [
    {
     "name": "stdout",
     "output_type": "stream",
     "text": [
      "Statistics \n",
      "Type :\n",
      "0\n",
      "[0.2605448 0.        0.        0.        1.        1.        1.\n",
      " 0.        0.        0.        0.        0.        1.        0.\n",
      " 0.        0.        0.        0.        0.        0.        0.\n",
      " 0.        0.        1.        1.        1.        1.        1.\n",
      " 1.        0.       ]\n",
      "Statistics \n",
      "Type :\n",
      "1\n",
      "[0.09834149 0.         0.         0.         1.         1.\n",
      " 1.         0.         0.         0.         0.         0.\n",
      " 1.         0.         0.         0.         0.         0.\n",
      " 0.         0.         0.         0.         0.         0.\n",
      " 0.         0.         1.         1.         1.         0.        ]\n",
      "Statistics \n",
      "Type :\n",
      "2\n",
      "[0.05881481 0.         0.         0.         0.         0.\n",
      " 0.         0.         0.         0.         0.         0.\n",
      " 0.         0.         0.         0.         0.         0.\n",
      " 0.         0.         0.         0.         0.         0.\n",
      " 0.         0.         0.         0.         0.         0.        ]\n",
      "Statistics \n",
      "Type :\n",
      "3\n",
      "[0.06376737 0.         0.         0.         0.         0.\n",
      " 0.         0.         0.         0.         0.         0.\n",
      " 0.         0.         0.         0.         0.         0.\n",
      " 0.         0.         0.         0.         0.         0.\n",
      " 0.         0.         0.         0.         0.         0.        ]\n",
      "lambda=0.00000,degree=1, Training Loss=1331954.9293792283, Testing Loss=148308.1657382197\n",
      "lambda=0.00000,degree=2, Training Loss=1240761.618466519, Testing Loss=137469.77643176776\n",
      "lambda=0.00000,degree=3, Training Loss=1164129.4157193508, Testing Loss=128748.37628786369\n",
      "lambda=0.00000,degree=4, Training Loss=1090185.07282864, Testing Loss=120240.27046547437\n",
      "lambda=0.00000,degree=5, Training Loss=1047675.165778226, Testing Loss=115457.22137615246\n",
      "lambda=0.00000,degree=6, Training Loss=995272.9803886223, Testing Loss=109419.62978539395\n",
      "lambda=0.00000,degree=7, Training Loss=966426.7112926545, Testing Loss=106218.63085494563\n",
      "lambda=0.00000,degree=8, Training Loss=935178.3770505217, Testing Loss=102596.35234514378\n",
      "lambda=0.00000,degree=9, Training Loss=919198.5540993946, Testing Loss=100907.41121021833\n",
      "lambda=0.00000,degree=10, Training Loss=916173.1799542928, Testing Loss=100463.1883954141\n",
      "lambda=0.00000,degree=11, Training Loss=906532.2303642938, Testing Loss=99468.18973740068\n",
      "lambda=0.00000,degree=12, Training Loss=909251.0961645634, Testing Loss=99694.89431257182\n",
      "lambda=0.00000,degree=13, Training Loss=900920.7749259134, Testing Loss=98833.98839696943\n",
      "lambda=0.00000,degree=14, Training Loss=903444.5896288989, Testing Loss=99065.27455996063\n",
      "lambda=0.00000,degree=15, Training Loss=895896.0699506277, Testing Loss=98311.34015465884\n",
      "lambda=0.00000,degree=16, Training Loss=898060.3569763533, Testing Loss=98505.3810014071\n",
      "lambda=0.10000,degree=1, Training Loss=716193.288980584, Testing Loss=74973.99344110329\n",
      "lambda=0.10000,degree=2, Training Loss=673642.3055202957, Testing Loss=80738.50289814181\n",
      "lambda=0.10000,degree=3, Training Loss=628856.3743403686, Testing Loss=68811.45673838381\n",
      "lambda=0.10000,degree=4, Training Loss=697953.4079328127, Testing Loss=76342.69407403843\n",
      "lambda=0.10000,degree=5, Training Loss=726903.5445646767, Testing Loss=77165.54799161303\n",
      "lambda=0.10000,degree=6, Training Loss=707945.8169493027, Testing Loss=75973.51008438229\n",
      "lambda=0.10000,degree=7, Training Loss=655711.4423502384, Testing Loss=70775.9169534815\n",
      "lambda=0.10000,degree=8, Training Loss=977739.2031083831, Testing Loss=104074.95399541088\n",
      "lambda=0.10000,degree=9, Training Loss=1686577.0839526637, Testing Loss=188524.36656414578\n",
      "lambda=0.10000,degree=10, Training Loss=708539.3977250286, Testing Loss=78521.1930735755\n",
      "lambda=0.10000,degree=11, Training Loss=665412.1803382598, Testing Loss=69431.248421071\n",
      "lambda=0.10000,degree=12, Training Loss=1668009.5324968551, Testing Loss=186092.01587019413\n",
      "lambda=0.10000,degree=13, Training Loss=1672331.5365537843, Testing Loss=187463.99630365078\n",
      "lambda=0.10000,degree=14, Training Loss=1666393.4452825563, Testing Loss=186613.9562236567\n",
      "lambda=0.10000,degree=15, Training Loss=793996.6495237378, Testing Loss=86934.10338438093\n",
      "lambda=0.10000,degree=16, Training Loss=750682.3799099469, Testing Loss=81493.16005383944\n",
      "lambda=0.20000,degree=1, Training Loss=684992.8932334931, Testing Loss=73667.52982442263\n",
      "lambda=0.20000,degree=2, Training Loss=635429.8402525408, Testing Loss=65622.29061849891\n",
      "lambda=0.20000,degree=3, Training Loss=578031.8120004713, Testing Loss=61787.84767716836\n",
      "lambda=0.20000,degree=4, Training Loss=793666.5531734291, Testing Loss=87072.25689076571\n",
      "lambda=0.20000,degree=5, Training Loss=666481.4235058749, Testing Loss=69174.98071880145\n",
      "lambda=0.20000,degree=6, Training Loss=637784.4266530679, Testing Loss=67461.4832584432\n",
      "lambda=0.20000,degree=7, Training Loss=602955.2761456762, Testing Loss=64138.95378025141\n",
      "lambda=0.20000,degree=8, Training Loss=975450.3421819813, Testing Loss=105494.65408813834\n",
      "lambda=0.20000,degree=9, Training Loss=1666464.1489556627, Testing Loss=184911.15319394885\n",
      "lambda=0.20000,degree=10, Training Loss=664286.6476880215, Testing Loss=70818.71402169489\n",
      "lambda=0.20000,degree=11, Training Loss=627547.7492660597, Testing Loss=67154.01300868124\n",
      "lambda=0.20000,degree=12, Training Loss=1659275.1352397376, Testing Loss=183564.7578418454\n",
      "lambda=0.20000,degree=13, Training Loss=1659075.8086990651, Testing Loss=184261.7163642671\n",
      "lambda=0.20000,degree=14, Training Loss=1652356.9482026438, Testing Loss=184097.74271200664\n",
      "lambda=0.20000,degree=15, Training Loss=794435.0873926784, Testing Loss=86934.10338438093\n",
      "lambda=0.20000,degree=16, Training Loss=702415.763323549, Testing Loss=75421.62183864765\n",
      "lambda=0.00000,degree=1, Training Loss=977996.6267523421, Testing Loss=110649.06745002644\n",
      "lambda=0.00000,degree=2, Training Loss=878511.3542442124, Testing Loss=99483.99356401127\n",
      "lambda=0.00000,degree=3, Training Loss=811475.9398912719, Testing Loss=92158.58295828539\n",
      "lambda=0.00000,degree=4, Training Loss=759619.2926059632, Testing Loss=86236.29109795632\n",
      "lambda=0.00000,degree=5, Training Loss=732482.3734362992, Testing Loss=83354.51728190342\n",
      "lambda=0.00000,degree=6, Training Loss=726786.6517105404, Testing Loss=82554.82627537473\n",
      "lambda=0.00000,degree=7, Training Loss=714384.0212604859, Testing Loss=81298.3080163029\n",
      "lambda=0.00000,degree=8, Training Loss=715499.7896017391, Testing Loss=81266.38823444129\n",
      "lambda=0.00000,degree=9, Training Loss=708658.7308759815, Testing Loss=80629.224622245\n",
      "lambda=0.00000,degree=10, Training Loss=711025.2419392064, Testing Loss=80663.65063232325\n",
      "lambda=0.00000,degree=11, Training Loss=707655.0904040317, Testing Loss=80342.18808995342\n",
      "lambda=0.00000,degree=12, Training Loss=710790.738111123, Testing Loss=80373.10344794657\n",
      "lambda=0.00000,degree=13, Training Loss=709936.9833695577, Testing Loss=80378.90618965498\n",
      "lambda=0.00000,degree=14, Training Loss=713783.0220125612, Testing Loss=80492.79085366502\n",
      "lambda=0.00000,degree=15, Training Loss=714596.9657596718, Testing Loss=80680.94103566794\n",
      "lambda=0.00000,degree=16, Training Loss=719088.266462676, Testing Loss=80862.75931708574\n",
      "lambda=0.10000,degree=1, Training Loss=861591.1370989844, Testing Loss=92978.4004478544\n",
      "lambda=0.10000,degree=2, Training Loss=863434.8710963828, Testing Loss=93461.9289246294\n",
      "lambda=0.10000,degree=3, Training Loss=1113200.8505026326, Testing Loss=121404.84594334583\n",
      "lambda=0.10000,degree=4, Training Loss=766810.5442781309, Testing Loss=85674.99271317647\n",
      "lambda=0.10000,degree=5, Training Loss=837416.6641695641, Testing Loss=89631.41134922122\n",
      "lambda=0.10000,degree=6, Training Loss=862330.0052292222, Testing Loss=93558.1485589401\n",
      "lambda=0.10000,degree=7, Training Loss=839130.9143327279, Testing Loss=92623.71425268419\n",
      "lambda=0.10000,degree=8, Training Loss=760190.3963234057, Testing Loss=83258.80876195454\n",
      "lambda=0.10000,degree=9, Training Loss=771549.8109415714, Testing Loss=85400.1170370294\n",
      "lambda=0.10000,degree=10, Training Loss=766652.2857463727, Testing Loss=85678.25041371604\n",
      "lambda=0.10000,degree=11, Training Loss=740836.9599124449, Testing Loss=81964.42763220584\n",
      "lambda=0.10000,degree=12, Training Loss=863893.7830831701, Testing Loss=95287.72632774214\n",
      "lambda=0.10000,degree=13, Training Loss=831795.2172672898, Testing Loss=91452.50200213808\n",
      "lambda=0.10000,degree=14, Training Loss=809886.2387065837, Testing Loss=89163.96545338584\n"
     ]
    },
    {
     "name": "stdout",
     "output_type": "stream",
     "text": [
      "lambda=0.10000,degree=15, Training Loss=1105039.8643780542, Testing Loss=118527.66322520445\n",
      "lambda=0.10000,degree=16, Training Loss=1039303.1092608181, Testing Loss=114169.36165595826\n",
      "lambda=0.20000,degree=1, Training Loss=859912.7167739731, Testing Loss=93116.54995625203\n",
      "lambda=0.20000,degree=2, Training Loss=671757.2321654599, Testing Loss=74832.45432204509\n",
      "lambda=0.20000,degree=3, Training Loss=1105284.67412684, Testing Loss=121952.49609600492\n",
      "lambda=0.20000,degree=4, Training Loss=808874.8532681335, Testing Loss=88107.7856681012\n",
      "lambda=0.20000,degree=5, Training Loss=1040664.7392698118, Testing Loss=115309.0760618972\n",
      "lambda=0.20000,degree=6, Training Loss=844707.6594275883, Testing Loss=91955.22443904163\n",
      "lambda=0.20000,degree=7, Training Loss=905315.4050965246, Testing Loss=100477.69424908582\n",
      "lambda=0.20000,degree=8, Training Loss=741157.4027965771, Testing Loss=81566.72545574256\n",
      "lambda=0.20000,degree=9, Training Loss=788656.7708304164, Testing Loss=85667.44721374263\n",
      "lambda=0.20000,degree=10, Training Loss=741588.0356974176, Testing Loss=82402.10221443416\n",
      "lambda=0.20000,degree=11, Training Loss=845185.8143390758, Testing Loss=91533.00664658855\n",
      "lambda=0.20000,degree=12, Training Loss=838563.6307535841, Testing Loss=91520.50899464086\n",
      "lambda=0.20000,degree=13, Training Loss=799302.2558742139, Testing Loss=87472.7717538601\n",
      "lambda=0.20000,degree=14, Training Loss=786634.3345403961, Testing Loss=87567.18133036573\n",
      "lambda=0.20000,degree=15, Training Loss=786088.1470304243, Testing Loss=87626.87297040776\n",
      "lambda=0.20000,degree=16, Training Loss=1023977.9667706558, Testing Loss=112870.59616509663\n",
      "lambda=0.00000,degree=1, Training Loss=605682.152579489, Testing Loss=65999.47237378926\n",
      "lambda=0.00000,degree=2, Training Loss=515781.0746894232, Testing Loss=55877.060463335554\n",
      "lambda=0.00000,degree=3, Training Loss=462393.6920169254, Testing Loss=50031.6756100458\n",
      "lambda=0.00000,degree=4, Training Loss=417465.3621990387, Testing Loss=45114.24014898065\n",
      "lambda=0.00000,degree=5, Training Loss=397449.1456963914, Testing Loss=43089.42821930694\n",
      "lambda=0.00000,degree=6, Training Loss=389193.21519138146, Testing Loss=42287.52529347901\n",
      "lambda=0.00000,degree=7, Training Loss=381431.1060185152, Testing Loss=41588.3266401568\n",
      "lambda=0.00000,degree=8, Training Loss=380094.4738216319, Testing Loss=41504.4479062565\n",
      "lambda=0.00000,degree=9, Training Loss=378129.86923669046, Testing Loss=41427.81377393672\n",
      "lambda=0.00000,degree=10, Training Loss=380649.91219264467, Testing Loss=41778.50706394626\n",
      "lambda=0.00000,degree=11, Training Loss=382503.68962266855, Testing Loss=42118.91322720853\n",
      "lambda=0.00000,degree=12, Training Loss=387565.88267294236, Testing Loss=42835.17857284498\n",
      "lambda=0.00000,degree=13, Training Loss=392009.32261397305, Testing Loss=43453.12465887478\n",
      "lambda=0.00000,degree=14, Training Loss=398736.28583023726, Testing Loss=44399.76065213804\n",
      "lambda=0.00000,degree=15, Training Loss=404998.22200154414, Testing Loss=45212.46184607293\n",
      "lambda=0.00000,degree=16, Training Loss=413024.4259071723, Testing Loss=46324.099902281945\n",
      "lambda=0.10000,degree=1, Training Loss=614661.0228166124, Testing Loss=69009.77953366701\n",
      "lambda=0.10000,degree=2, Training Loss=625812.149898315, Testing Loss=68457.6190662302\n",
      "lambda=0.10000,degree=3, Training Loss=679880.528833549, Testing Loss=72018.91208094703\n",
      "lambda=0.10000,degree=4, Training Loss=590643.7595977392, Testing Loss=65486.23125016346\n",
      "lambda=0.10000,degree=5, Training Loss=457801.7270826119, Testing Loss=53899.170841858264\n",
      "lambda=0.10000,degree=6, Training Loss=568636.7955247756, Testing Loss=65650.85893708013\n",
      "lambda=0.10000,degree=7, Training Loss=461235.59396142093, Testing Loss=53993.31971840031\n",
      "lambda=0.10000,degree=8, Training Loss=567044.2996649372, Testing Loss=60756.767025693385\n",
      "lambda=0.10000,degree=9, Training Loss=589787.7356962922, Testing Loss=65185.14510213356\n",
      "lambda=0.10000,degree=10, Training Loss=461736.5248530536, Testing Loss=51704.22263177238\n",
      "lambda=0.10000,degree=11, Training Loss=465501.169697349, Testing Loss=51631.01521498681\n",
      "lambda=0.10000,degree=12, Training Loss=458422.4250693725, Testing Loss=54247.78518002766\n",
      "lambda=0.10000,degree=13, Training Loss=572967.1997578101, Testing Loss=64454.32679132164\n",
      "lambda=0.10000,degree=14, Training Loss=583124.284530433, Testing Loss=65754.71014042443\n",
      "lambda=0.10000,degree=15, Training Loss=497392.3582596176, Testing Loss=53957.24420840904\n",
      "lambda=0.10000,degree=16, Training Loss=476684.8266834902, Testing Loss=56032.10965835904\n",
      "lambda=0.20000,degree=1, Training Loss=601855.0309341802, Testing Loss=67853.31643076646\n",
      "lambda=0.20000,degree=2, Training Loss=612744.4957723722, Testing Loss=70084.43468897237\n",
      "lambda=0.20000,degree=3, Training Loss=471840.69457543234, Testing Loss=54008.15080206929\n",
      "lambda=0.20000,degree=4, Training Loss=584701.6182343749, Testing Loss=66033.90246008545\n",
      "lambda=0.20000,degree=5, Training Loss=443275.1087830778, Testing Loss=49587.076968547364\n",
      "lambda=0.20000,degree=6, Training Loss=565835.3224951078, Testing Loss=63255.21274200151\n",
      "lambda=0.20000,degree=7, Training Loss=455555.9400002335, Testing Loss=49948.03492711947\n",
      "lambda=0.20000,degree=8, Training Loss=555955.0662532697, Testing Loss=60941.26353943333\n",
      "lambda=0.20000,degree=9, Training Loss=582517.2244805577, Testing Loss=65273.05618668763\n",
      "lambda=0.20000,degree=10, Training Loss=446247.9482262763, Testing Loss=50383.88797544269\n",
      "lambda=0.20000,degree=11, Training Loss=470665.35667233594, Testing Loss=53326.319510749105\n",
      "lambda=0.20000,degree=12, Training Loss=449453.2278295464, Testing Loss=49938.59597398731\n",
      "lambda=0.20000,degree=13, Training Loss=579922.0164543337, Testing Loss=65881.11070249545\n",
      "lambda=0.20000,degree=14, Training Loss=580367.6210189217, Testing Loss=66677.34859716485\n",
      "lambda=0.20000,degree=15, Training Loss=486303.99952780595, Testing Loss=53478.508231202104\n",
      "lambda=0.20000,degree=16, Training Loss=652189.274025956, Testing Loss=72770.34832534067\n",
      "lambda=0.00000,degree=1, Training Loss=386988.33280523174, Testing Loss=44614.20975482646\n",
      "lambda=0.00000,degree=2, Training Loss=342429.44055660215, Testing Loss=39687.41202760892\n",
      "lambda=0.00000,degree=3, Training Loss=310722.1495247946, Testing Loss=36242.71925594687\n",
      "lambda=0.00000,degree=4, Training Loss=287576.26753215096, Testing Loss=33622.477051782844\n",
      "lambda=0.00000,degree=5, Training Loss=274429.82610765274, Testing Loss=32138.640660725196\n",
      "lambda=0.00000,degree=6, Training Loss=268378.66272633855, Testing Loss=31389.538064704793\n",
      "lambda=0.00000,degree=7, Training Loss=261488.96481737655, Testing Loss=30606.9188637386\n",
      "lambda=0.00000,degree=8, Training Loss=258630.70456226674, Testing Loss=30213.39459847681\n",
      "lambda=0.00000,degree=9, Training Loss=254689.9944308828, Testing Loss=29778.02580700625\n",
      "lambda=0.00000,degree=10, Training Loss=253614.33979902303, Testing Loss=29555.127773121323\n",
      "lambda=0.00000,degree=11, Training Loss=251569.32399138602, Testing Loss=29334.91526764317\n",
      "lambda=0.00000,degree=12, Training Loss=251518.73434736324, Testing Loss=29206.331775078783\n",
      "lambda=0.00000,degree=13, Training Loss=250705.2961570063, Testing Loss=29121.506617577175\n",
      "lambda=0.00000,degree=14, Training Loss=251391.94050353588, Testing Loss=29070.659142255558\n",
      "lambda=0.00000,degree=15, Training Loss=251339.2185364236, Testing Loss=29034.36496220969\n",
      "lambda=0.00000,degree=16, Training Loss=252600.55785515567, Testing Loss=29017.378726691797\n",
      "lambda=0.10000,degree=1, Training Loss=214569.38687845267, Testing Loss=22383.438033577666\n",
      "lambda=0.10000,degree=2, Training Loss=219898.2819385316, Testing Loss=22050.714087656303\n",
      "lambda=0.10000,degree=3, Training Loss=277161.0285035616, Testing Loss=28779.348673235294\n",
      "lambda=0.10000,degree=4, Training Loss=218757.51408748262, Testing Loss=22043.649563431478\n",
      "lambda=0.10000,degree=5, Training Loss=268911.87492678536, Testing Loss=27955.395896215094\n",
      "lambda=0.10000,degree=6, Training Loss=338289.63668842096, Testing Loss=37631.48906674959\n",
      "lambda=0.10000,degree=7, Training Loss=242123.72813038933, Testing Loss=26938.328619842436\n",
      "lambda=0.10000,degree=8, Training Loss=256748.4284671558, Testing Loss=25705.76864961941\n",
      "lambda=0.10000,degree=9, Training Loss=282872.19804414985, Testing Loss=31306.70775816033\n",
      "lambda=0.10000,degree=10, Training Loss=248916.60750485607, Testing Loss=27675.94491153007\n"
     ]
    },
    {
     "name": "stdout",
     "output_type": "stream",
     "text": [
      "lambda=0.10000,degree=11, Training Loss=210274.661854853, Testing Loss=22241.46169665617\n",
      "lambda=0.10000,degree=12, Training Loss=373426.30829366995, Testing Loss=41533.400758497824\n",
      "lambda=0.10000,degree=13, Training Loss=211782.55173765577, Testing Loss=21827.13778975687\n",
      "lambda=0.10000,degree=14, Training Loss=236250.8423577968, Testing Loss=27949.956770642733\n",
      "lambda=0.10000,degree=15, Training Loss=350701.05828843656, Testing Loss=39321.3019950363\n",
      "lambda=0.10000,degree=16, Training Loss=244051.97960379365, Testing Loss=26288.08559222489\n",
      "lambda=0.20000,degree=1, Training Loss=225040.60395651092, Testing Loss=21931.856389235814\n",
      "lambda=0.20000,degree=2, Training Loss=208000.23464738467, Testing Loss=21782.13580664066\n",
      "lambda=0.20000,degree=3, Training Loss=373271.82364480384, Testing Loss=41553.87603162925\n",
      "lambda=0.20000,degree=4, Training Loss=207536.02847128603, Testing Loss=22065.935607352505\n",
      "lambda=0.20000,degree=5, Training Loss=250015.95843705, Testing Loss=26916.909805037154\n",
      "lambda=0.20000,degree=6, Training Loss=251698.4502264892, Testing Loss=25781.596568721245\n",
      "lambda=0.20000,degree=7, Training Loss=209921.6125633829, Testing Loss=21448.582540032035\n",
      "lambda=0.20000,degree=8, Training Loss=227851.97758524973, Testing Loss=24109.045366859114\n",
      "lambda=0.20000,degree=9, Training Loss=246979.52911728917, Testing Loss=28728.04255944554\n",
      "lambda=0.20000,degree=10, Training Loss=214210.31468297588, Testing Loss=22818.216009671134\n",
      "lambda=0.20000,degree=11, Training Loss=237604.5324830931, Testing Loss=24757.668634943337\n",
      "lambda=0.20000,degree=12, Training Loss=208182.03486831702, Testing Loss=21885.618432336174\n",
      "lambda=0.20000,degree=13, Training Loss=229400.42016349483, Testing Loss=23977.970840190766\n",
      "lambda=0.20000,degree=14, Training Loss=211329.01498241138, Testing Loss=21868.623572696702\n",
      "lambda=0.20000,degree=15, Training Loss=391650.640554636, Testing Loss=45461.21387148355\n",
      "lambda=0.20000,degree=16, Training Loss=206189.16019431845, Testing Loss=22536.89191741979\n",
      "Accuracy per jet nbr: \n",
      "\n",
      "[61787.84767716836, 74832.45432204509, 41427.81377393672, 21448.582540032035]\n"
     ]
    }
   ],
   "source": [
    "#separate data with respect to column 24 and remove None\n",
    "split_x_test, _, split_ids_test =  separate(y_donotUse, tX_test, ids_test)\n",
    "\n",
    "\n",
    "split_x_cleaned_test = removeNone(split_x_test, dataStatistics(split_x_test))\n",
    "\n",
    "#median instead of None\n",
    "split_x_with_median = putMedianInsteadOfNone(split_x_cleaned_test)\n",
    "\n",
    "split_x_with_median_with_momentum = add_momentum_vector(split_x_with_median)\n",
    "\n",
    "#line dropped when None\n",
    "#split_x_drop_lines, split_y_dropped_split_indexes_dropped = dropLineIfNone(split_x_cleaned_test, _, split_ids_test)\n",
    "\n",
    "#degrees for polynomial feature expension\n",
    "degrees = [1,2,3,4,5,6,7,8,9,10,11,12,13,14,15,16]\n",
    "\n",
    "y_res = []\n",
    "\n",
    "acc = []\n",
    "\n",
    "plot_data_per_jetnum = []\n",
    "\n",
    "\n",
    "for i in range(len(cleaned_with_median)):\n",
    "    \n",
    "    \n",
    "    \n",
    "    #training: chose either cross calidation or cross validation for logistic regression with regularization\n",
    "    w_star, d, accuracy, training_set, plot_data = crossValidation_with_loss(cleaned_with_median[i], split_y[i], 0.90, degrees ,6)\n",
    "    #w_star, d, accuracy, training_set, plot_data = crossValidationForLogistic_reg_with_loss(cleaned_with_median[i], split_y[i], 0.9, degrees ,6)\n",
    "    \n",
    "    \n",
    "    #polynomial feature expension and normalization using the training data\n",
    "    mean = np.mean(build_poly(training_set,d), axis = 0)\n",
    "    std = np.std(build_poly(training_set,d), axis = 0)\n",
    "    \n",
    "      \n",
    "    #put 1 if std = 0\n",
    "    std = std + (std == 0)\n",
    "    \n",
    "    extended_and_normalized = (build_poly(split_x_with_median[i], d) - mean) / std\n",
    "    \n",
    "    #adding bias term\n",
    "    bias = np.ones(shape=split_x_with_median[i].shape)          \n",
    "    x_test_ready = np.c_[bias, extended_and_normalized]\n",
    "    \n",
    "    #prediction for least squares\n",
    "    #y_res.append(predict_labels(w_star, x_test_ready))\n",
    "    \n",
    "    #prediction for logistic\n",
    "    y_res.append(predict_labels_logistic(w_star, x_test_ready))\n",
    "    \n",
    "\n",
    "\n",
    "    acc.append(accuracy)\n",
    "    plot_data_per_jetnum.append(plot_data)\n",
    "\n",
    "print(\"Accuracy per jet nbr: \\n\")\n",
    "print(acc)\n"
   ]
  },
  {
   "cell_type": "code",
   "execution_count": 54,
   "metadata": {
    "scrolled": false
   },
   "outputs": [
    {
     "ename": "TypeError",
     "evalue": "stem() got an unexpected keyword argument 'use_line_collection'",
     "output_type": "error",
     "traceback": [
      "\u001b[0;31m---------------------------------------------------------------------------\u001b[0m",
      "\u001b[0;31mTypeError\u001b[0m                                 Traceback (most recent call last)",
      "\u001b[0;32m<ipython-input-54-18701bf9b52e>\u001b[0m in \u001b[0;36m<module>\u001b[0;34m\u001b[0m\n\u001b[1;32m     22\u001b[0m     \u001b[0maxes\u001b[0m\u001b[0;34m.\u001b[0m\u001b[0mset_ylim\u001b[0m\u001b[0;34m(\u001b[0m\u001b[0;34m[\u001b[0m\u001b[0;36m0.7\u001b[0m\u001b[0;34m,\u001b[0m\u001b[0;36m0.86\u001b[0m\u001b[0;34m]\u001b[0m\u001b[0;34m)\u001b[0m\u001b[0;34m\u001b[0m\u001b[0;34m\u001b[0m\u001b[0m\n\u001b[1;32m     23\u001b[0m \u001b[0;34m\u001b[0m\u001b[0m\n\u001b[0;32m---> 24\u001b[0;31m     \u001b[0mplt\u001b[0m\u001b[0;34m.\u001b[0m\u001b[0mstem\u001b[0m\u001b[0;34m(\u001b[0m\u001b[0mY\u001b[0m\u001b[0;34m,\u001b[0m \u001b[0mZ\u001b[0m\u001b[0;34m,\u001b[0m \u001b[0muse_line_collection\u001b[0m\u001b[0;34m=\u001b[0m\u001b[0;32mTrue\u001b[0m\u001b[0;34m,\u001b[0m \u001b[0mlabel\u001b[0m\u001b[0;34m=\u001b[0m\u001b[0;34m\"hello\"\u001b[0m\u001b[0;34m)\u001b[0m\u001b[0;34m\u001b[0m\u001b[0;34m\u001b[0m\u001b[0m\n\u001b[0m\u001b[1;32m     25\u001b[0m     \u001b[0mplt\u001b[0m\u001b[0;34m.\u001b[0m\u001b[0msavefig\u001b[0m\u001b[0;34m(\u001b[0m\u001b[0;34m\"cross_with_momentum_\"\u001b[0m\u001b[0;34m+\u001b[0m\u001b[0mstr\u001b[0m\u001b[0;34m(\u001b[0m\u001b[0mi\u001b[0m\u001b[0;34m)\u001b[0m\u001b[0;34m)\u001b[0m\u001b[0;34m\u001b[0m\u001b[0;34m\u001b[0m\u001b[0m\n\u001b[1;32m     26\u001b[0m     \u001b[0mplt\u001b[0m\u001b[0;34m.\u001b[0m\u001b[0mshow\u001b[0m\u001b[0;34m(\u001b[0m\u001b[0;34m)\u001b[0m\u001b[0;34m\u001b[0m\u001b[0;34m\u001b[0m\u001b[0m\n",
      "\u001b[0;31mTypeError\u001b[0m: stem() got an unexpected keyword argument 'use_line_collection'"
     ]
    },
    {
     "data": {
      "image/png": "[encoded data removed]",
      "text/plain": [
       "<Figure size 720x480 with 1 Axes>"
      ]
     },
     "metadata": {
      "needs_background": "light"
     },
     "output_type": "display_data"
    }
   ],
   "source": [
    "from mpl_toolkits.mplot3d import Axes3D\n",
    "import matplotlib.pyplot as plt\n",
    "from matplotlib import cm\n",
    "from matplotlib.ticker import LinearLocator, FormatStrFormatter\n",
    "\n",
    "for i in range(len(plot_data_per_jetnum)):\n",
    "    jet_num = plot_data_per_jetnum[i]\n",
    "\n",
    "\n",
    "\n",
    "    X = np.array([x[0] for x in jet_num])\n",
    "    Y = np.array([x[1] for x in jet_num])\n",
    "    Z = np.array([x[3] for x in jet_num])\n",
    "    \n",
    "\n",
    "    plt.figure(dpi=120)\n",
    "    plt.title('Degree against accuracy for jet_num = %d' %i)\n",
    "    plt.xlabel('Degree of polynomial extension')\n",
    "    plt.ylabel('Testing Accuracy')\n",
    "\n",
    "    axes = plt.gca()\n",
    "    axes.set_ylim([0.7,0.86])\n",
    "\n",
    "    plt.stem(Y, Z, use_line_collection=True, label=\"hello\")\n",
    "    plt.savefig(\"cross_with_momentum_\"+str(i))\n",
    "    plt.show()\n"
   ]
  },
  {
   "cell_type": "code",
   "execution_count": 14,
   "metadata": {},
   "outputs": [],
   "source": [
    "OUTPUT_PATH = '../data/submission.csv'\n",
    "#reassemble the data for the submission\n",
    "y_pred = put_together(y_res, split_ids_test)\n",
    "create_csv_submission(ids_test, y_pred, OUTPUT_PATH)"
   ]
  }
 ],
 "metadata": {
  "anaconda-cloud": {},
  "kernelspec": {
   "display_name": "Python 3",
   "language": "python",
   "name": "python3"
  },
  "language_info": {
   "codemirror_mode": {
    "name": "ipython",
    "version": 3
   },
   "file_extension": ".py",
   "mimetype": "text/x-python",
   "name": "python",
   "nbconvert_exporter": "python",
   "pygments_lexer": "ipython3",
   "version": "3.7.3"
  }
 },
 "nbformat": 4,
 "nbformat_minor": 1
}
