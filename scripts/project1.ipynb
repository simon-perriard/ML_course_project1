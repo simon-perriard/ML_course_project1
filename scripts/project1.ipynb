{
 "cells": [
  {
   "cell_type": "code",
   "execution_count": 1,
   "metadata": {},
   "outputs": [],
   "source": [
    "# Useful starting lines\n",
    "%matplotlib inline\n",
    "import numpy as np\n",
    "import matplotlib.pyplot as plt\n",
    "%load_ext autoreload\n",
    "%autoreload 2"
   ]
  },
  {
   "cell_type": "markdown",
   "metadata": {},
   "source": [
    "## Load the training data into feature matrix, class labels, and event ids:"
   ]
  },
  {
   "cell_type": "code",
   "execution_count": 2,
   "metadata": {},
   "outputs": [],
   "source": [
    "from proj1_helpers import *\n",
    "DATA_TRAIN_PATH = '../data/train.csv' \n",
    "y, tX, ids = load_csv_data(DATA_TRAIN_PATH)"
   ]
  },
  {
   "cell_type": "code",
   "execution_count": 3,
   "metadata": {},
   "outputs": [],
   "source": [
    "from implementations import *"
   ]
  },
  {
   "cell_type": "markdown",
   "metadata": {},
   "source": [
    "## Do your thing crazy machine learning thing here :) ..."
   ]
  },
  {
   "cell_type": "code",
   "execution_count": 4,
   "metadata": {},
   "outputs": [],
   "source": [
    "# Separate the data according to the value of column 24 (PRI_jet_num) \n",
    "\n",
    "def separate(y, tX, ids):\n",
    "    \n",
    "    split_x = []\n",
    "    split_y = []\n",
    "    split_ids = []\n",
    "    \n",
    "    jet_column_nbr = 22\n",
    "    \n",
    "    for i in range(4):\n",
    "        \n",
    "        split_x.append(tX[np.where(tX[:,jet_column_nbr] == i)])\n",
    "        split_y.append(y[np.where(tX[:,jet_column_nbr] == i)])\n",
    "        split_ids.append(ids[np.where(tX[:,jet_column_nbr] == i)])\n",
    "    \n",
    "    \n",
    "    \n",
    "    return split_x, split_y, split_ids"
   ]
  },
  {
   "cell_type": "code",
   "execution_count": 5,
   "metadata": {},
   "outputs": [],
   "source": [
    "split_x, split_y, split_ids = separate(y, tX, ids)"
   ]
  },
  {
   "cell_type": "code",
   "execution_count": 6,
   "metadata": {},
   "outputs": [],
   "source": [
    "#remove the columns from each set of data given a boolean array\n",
    "\n",
    "def removeNone(data, selection):\n",
    "   \n",
    "    cleaned=[]\n",
    "    \n",
    "    for i in range(4):\n",
    "        curr_data = data[i]\n",
    "        \n",
    "        cleaned.append(curr_data[:,selection[i]])\n",
    "      \n",
    "    return cleaned\n",
    "    \n",
    "    "
   ]
  },
  {
   "cell_type": "code",
   "execution_count": 7,
   "metadata": {},
   "outputs": [],
   "source": [
    "#print statistics about the None values (-999) for each columns\n",
    "#returns a boolean array that can be used to filter the columns that have 100% of undefined values (-999)\n",
    "def dataStatistics(data):\n",
    "    \n",
    "    stats=[]\n",
    "    \n",
    "    for i in range(4):\n",
    "        \n",
    "        print(\"Statistics \")\n",
    "        print(\"Type :\")\n",
    "        print(i)\n",
    "        \n",
    "        \n",
    "        nones = (data[i] == -999)\n",
    "    \n",
    "        mean = np.sum(nones, axis=0)/nones.shape[0]\n",
    "        print(mean) \n",
    "        stats.append(mean != 1)\n",
    "    \n",
    "    return stats\n",
    "    "
   ]
  },
  {
   "cell_type": "code",
   "execution_count": 8,
   "metadata": {
    "scrolled": true
   },
   "outputs": [
    {
     "name": "stdout",
     "output_type": "stream",
     "text": [
      "Statistics \n",
      "Type :\n",
      "0\n",
      "[0.26145747 0.         0.         0.         1.         1.\n",
      " 1.         0.         0.         0.         0.         0.\n",
      " 1.         0.         0.         0.         0.         0.\n",
      " 0.         0.         0.         0.         0.         1.\n",
      " 1.         1.         1.         1.         1.         0.        ]\n",
      "Statistics \n",
      "Type :\n",
      "1\n",
      "[0.09751883 0.         0.         0.         1.         1.\n",
      " 1.         0.         0.         0.         0.         0.\n",
      " 1.         0.         0.         0.         0.         0.\n",
      " 0.         0.         0.         0.         0.         0.\n",
      " 0.         0.         1.         1.         1.         0.        ]\n",
      "Statistics \n",
      "Type :\n",
      "2\n",
      "[0.05859584 0.         0.         0.         0.         0.\n",
      " 0.         0.         0.         0.         0.         0.\n",
      " 0.         0.         0.         0.         0.         0.\n",
      " 0.         0.         0.         0.         0.         0.\n",
      " 0.         0.         0.         0.         0.         0.        ]\n",
      "Statistics \n",
      "Type :\n",
      "3\n",
      "[0.0666396 0.        0.        0.        0.        0.        0.\n",
      " 0.        0.        0.        0.        0.        0.        0.\n",
      " 0.        0.        0.        0.        0.        0.        0.\n",
      " 0.        0.        0.        0.        0.        0.        0.\n",
      " 0.        0.       ]\n"
     ]
    }
   ],
   "source": [
    "selection = dataStatistics(split_x)"
   ]
  },
  {
   "cell_type": "code",
   "execution_count": 9,
   "metadata": {},
   "outputs": [],
   "source": [
    "cleaned = removeNone(split_x, selection)\n",
    "\n"
   ]
  },
  {
   "cell_type": "markdown",
   "metadata": {},
   "source": [
    "# Now we can either drop the lines with residual Nones or replace the Nones by the median value"
   ]
  },
  {
   "cell_type": "code",
   "execution_count": 10,
   "metadata": {},
   "outputs": [],
   "source": [
    "#replace the value of column 0 (can be None sometimes) by the median value of this column\n",
    "\n",
    "def putMedianInsteadOfNone(cleaned):\n",
    "    \n",
    "    completed_data = []\n",
    "    \n",
    "    for i in range(4):\n",
    "        #current PRI_jet_num\n",
    "        current = cleaned[i]\n",
    "        \n",
    "        median = np.median(current[np.where(current[:,0] != -999)], axis = 0)\n",
    "        \n",
    "        #replace -999 by median value\n",
    "        current[np.where(current[:,0] == -999)] = median\n",
    "        \n",
    "        completed_data.append(current)\n",
    "    \n",
    "    \n",
    "    return completed_data\n",
    "    \n",
    "    "
   ]
  },
  {
   "cell_type": "code",
   "execution_count": 11,
   "metadata": {
    "scrolled": true
   },
   "outputs": [],
   "source": [
    "cleaned_with_median = putMedianInsteadOfNone(cleaned)\n",
    "\n"
   ]
  },
  {
   "cell_type": "code",
   "execution_count": 94,
   "metadata": {},
   "outputs": [],
   "source": [
    "#Instead of putting the median we can simply drop the data where columns 0 == -999\n",
    "def dropLineIfNone(cleaned, split_y, split_ids):\n",
    "    \n",
    "    res_x=[]\n",
    "    res_y=[]\n",
    "    res_ids=[]\n",
    "    \n",
    "    for i in range(4):\n",
    "        \n",
    "        current = cleaned[i]\n",
    "        \n",
    "        drop_indexes = np.where(current[:,0] != -999)\n",
    "        \n",
    "        res_x.append(current[drop_indexes])\n",
    "        res_y.append(current[drop_indexes])\n",
    "        res_ids.append(current[drop_indexes])\n",
    "        \n",
    "    return res_x, res_y, res_ids"
   ]
  },
  {
   "cell_type": "code",
   "execution_count": 13,
   "metadata": {
    "scrolled": true
   },
   "outputs": [],
   "source": [
    "dropped_x, dropped_y, dropped_ids = dropLineIfNone(cleaned, split_y, split_ids)\n"
   ]
  },
  {
   "cell_type": "markdown",
   "metadata": {},
   "source": [
    "## At this point, the first values in each of the split data has a PRI_jet_num = 0, then 1 and so on. The data is clean and we can work with it."
   ]
  },
  {
   "cell_type": "code",
   "execution_count": 14,
   "metadata": {},
   "outputs": [],
   "source": [
    "initial_w = np.zeros(cleaned_with_median[0].shape[1])\n",
    "median_cleaned_x_0_lsq_GD = least_squares_GD(split_y[0], normalize(cleaned_with_median[0]), initial_w, 500, 0.1)"
   ]
  },
  {
   "cell_type": "code",
   "execution_count": 15,
   "metadata": {
    "scrolled": true
   },
   "outputs": [
    {
     "name": "stdout",
     "output_type": "stream",
     "text": [
      "(array([ 0.2155689 , -0.53554557, -0.40401874,  0.03959931,  0.08147027,\n",
      "        0.03959934,  0.16148251,  0.03462872,  0.10957412,  0.5842968 ,\n",
      "        0.05218412,  0.04930115, -0.04715568,  0.05726908,  0.0508691 ,\n",
      "       -0.07238437,  0.03803752, -0.00064042,  0.05024209,  0.05024209]), 0.29714565802617193)\n"
     ]
    }
   ],
   "source": [
    "print(median_cleaned_x_0_lsq_GD)"
   ]
  },
  {
   "cell_type": "code",
   "execution_count": 16,
   "metadata": {},
   "outputs": [],
   "source": [
    "median_cleaned_x_0_lsq_SGD = least_squares_SGD(split_y[0], normalize(cleaned_with_median[0]), initial_w, 500, 0.001)"
   ]
  },
  {
   "cell_type": "code",
   "execution_count": 17,
   "metadata": {},
   "outputs": [
    {
     "name": "stdout",
     "output_type": "stream",
     "text": [
      "(array([-0.03415192, -0.10838841, -0.02479375,  0.022209  ,  0.02761712,\n",
      "        0.022209  , -0.01267088,  0.02689357,  0.0322059 ,  0.0434371 ,\n",
      "        0.02972195,  0.03074625, -0.02174099,  0.03006534,  0.02920467,\n",
      "       -0.01581236,  0.03042716, -0.05358197,  0.02996181,  0.02996181]), 0.36323275355184187)\n"
     ]
    }
   ],
   "source": [
    "print(median_cleaned_x_0_lsq_SGD)"
   ]
  },
  {
   "cell_type": "code",
   "execution_count": 36,
   "metadata": {},
   "outputs": [],
   "source": [
    "median_cleaned_x_0_lsq = least_squares(split_y[0], normalize(cleaned_with_median[0]))"
   ]
  },
  {
   "cell_type": "code",
   "execution_count": 37,
   "metadata": {
    "scrolled": true
   },
   "outputs": [
    {
     "name": "stdout",
     "output_type": "stream",
     "text": [
      "(array([ 1.19348795e-01, -3.20910721e-01, -7.11010650e-01, -3.62337265e+03,\n",
      "        2.92434116e+01,  3.62345882e+03, -7.97192057e+00, -1.48451089e+01,\n",
      "       -9.21399478e-01,  8.74154019e+00,  1.22203119e-02,  9.00427055e-03,\n",
      "        8.51383345e+00,  1.42330453e-01,  1.82845411e-02, -8.31033254e-02,\n",
      "       -1.72379530e-01,  3.24837923e-02, -9.72705128e+00, -9.72705128e+00]), 0.2599109628358987)\n"
     ]
    }
   ],
   "source": [
    "print(median_cleaned_x_0_lsq)"
   ]
  },
  {
   "cell_type": "code",
   "execution_count": 20,
   "metadata": {},
   "outputs": [],
   "source": [
    "median_cleaned_x_0_ridge = ridge_regression(split_y[0], normalize(cleaned_with_median[0]), 0.037)"
   ]
  },
  {
   "cell_type": "code",
   "execution_count": 181,
   "metadata": {
    "scrolled": true
   },
   "outputs": [
    {
     "ename": "NameError",
     "evalue": "name 'median_cleaned_x_0_ridge' is not defined",
     "output_type": "error",
     "traceback": [
      "\u001b[0;31m---------------------------------------------------------------------------\u001b[0m",
      "\u001b[0;31mNameError\u001b[0m                                 Traceback (most recent call last)",
      "\u001b[0;32m<ipython-input-181-a0c155227344>\u001b[0m in \u001b[0;36m<module>\u001b[0;34m\u001b[0m\n\u001b[0;32m----> 1\u001b[0;31m \u001b[0mprint\u001b[0m\u001b[0;34m(\u001b[0m\u001b[0mmedian_cleaned_x_0_ridge\u001b[0m\u001b[0;34m)\u001b[0m\u001b[0;34m\u001b[0m\u001b[0;34m\u001b[0m\u001b[0m\n\u001b[0m",
      "\u001b[0;31mNameError\u001b[0m: name 'median_cleaned_x_0_ridge' is not defined"
     ]
    }
   ],
   "source": [
    "print(median_cleaned_x_0_ridge)"
   ]
  },
  {
   "cell_type": "code",
   "execution_count": 180,
   "metadata": {},
   "outputs": [
    {
     "ename": "NameError",
     "evalue": "name 'logistic_regression' is not defined",
     "output_type": "error",
     "traceback": [
      "\u001b[0;31m---------------------------------------------------------------------------\u001b[0m",
      "\u001b[0;31mNameError\u001b[0m                                 Traceback (most recent call last)",
      "\u001b[0;32m<ipython-input-180-0aec7208057b>\u001b[0m in \u001b[0;36m<module>\u001b[0;34m\u001b[0m\n\u001b[0;32m----> 1\u001b[0;31m \u001b[0mmedian_cleaned_x_0_log\u001b[0m \u001b[0;34m=\u001b[0m \u001b[0mlogistic_regression\u001b[0m\u001b[0;34m(\u001b[0m\u001b[0msplit_y\u001b[0m\u001b[0;34m[\u001b[0m\u001b[0;36m0\u001b[0m\u001b[0;34m]\u001b[0m\u001b[0;34m,\u001b[0m \u001b[0mnormalize\u001b[0m\u001b[0;34m(\u001b[0m\u001b[0mcleaned_with_median\u001b[0m\u001b[0;34m[\u001b[0m\u001b[0;36m0\u001b[0m\u001b[0;34m]\u001b[0m\u001b[0;34m)\u001b[0m\u001b[0;34m,\u001b[0m \u001b[0minitial_w\u001b[0m\u001b[0;34m,\u001b[0m \u001b[0;36m10000\u001b[0m\u001b[0;34m,\u001b[0m \u001b[0;36m0.01\u001b[0m\u001b[0;34m)\u001b[0m\u001b[0;34m\u001b[0m\u001b[0;34m\u001b[0m\u001b[0m\n\u001b[0m",
      "\u001b[0;31mNameError\u001b[0m: name 'logistic_regression' is not defined"
     ]
    }
   ],
   "source": [
    "median_cleaned_x_0_log = logistic_regression(split_y[0], normalize(cleaned_with_median[0]), initial_w, 10000, 0.01)"
   ]
  },
  {
   "cell_type": "code",
   "execution_count": null,
   "metadata": {},
   "outputs": [],
   "source": [
    "print(median_cleaned_x_0_log)"
   ]
  },
  {
   "cell_type": "markdown",
   "metadata": {},
   "source": [
    "## Features Expension"
   ]
  },
  {
   "cell_type": "code",
   "execution_count": 106,
   "metadata": {},
   "outputs": [],
   "source": [
    "def build_poly(x, degree):\n",
    "   \n",
    "    x_extended = np.ones(x.shape[0])\n",
    "\n",
    "    for d in range (1, degree +1):\n",
    "        x_extended = np.c_[x_extended, x**d]\n",
    "        \n",
    "\n",
    "    return x_extended"
   ]
  },
  {
   "cell_type": "markdown",
   "metadata": {},
   "source": [
    "## Cross Validation"
   ]
  },
  {
   "cell_type": "code",
   "execution_count": 12,
   "metadata": {},
   "outputs": [],
   "source": [
    "#method to split the training set into a (new) training set and a test set (same as in lab03)\n",
    "\n",
    "def split_data(x, y, ratio, seed=1):\n",
    "    \"\"\"\n",
    "    split the dataset based on the split ratio. If ratio is 0.8 \n",
    "    you will have 80% of your data set dedicated to training \n",
    "    and the rest dedicated to testing\n",
    "    \"\"\"\n",
    "    # set seed\n",
    "    np.random.seed(seed)\n",
    " \n",
    "    # split the data based on the given ratio\n",
    "\n",
    "    training_nbr = int(x.shape[0] * ratio)\n",
    "    indexes = np.random.choice(x.shape[0],training_nbr, replace=False)\n",
    "    \n",
    "    x_train = x[indexes]\n",
    "    y_train = y[indexes]\n",
    "    x_test = np.delete(x, indexes, axis = 0)\n",
    "    y_test = np.delete(y, indexes, axis = 0)\n",
    "    \n",
    "    \n",
    "    return x_train, y_train, x_test, y_test"
   ]
  },
  {
   "cell_type": "code",
   "execution_count": 123,
   "metadata": {},
   "outputs": [],
   "source": [
    "#perform cross-validation \n",
    "\n",
    "def crossValidation(x, y, splitRatio, degree, seed =1):\n",
    "    \n",
    "    x_train, y_train, x_test, y_test = split_data(x, y, splitRatio, seed)\n",
    "    \n",
    "    a_training = []\n",
    "    a_testing = []\n",
    "    weights = []\n",
    "\n",
    "    \n",
    "    # define parameter (just add more for loops if there are more parameters for the model)\n",
    "    lambdas = np.arange(0,0.03,0.0005)\n",
    "    \n",
    "    for ind, lambda_ in enumerate(lambdas):\n",
    "        \n",
    "        for _, d in enumerate(degree):\n",
    "            \n",
    "           \n",
    "            #perform polynomial feature expension\n",
    "            x_test_poly = build_poly(x_test,d)\n",
    "            x_train_poly = build_poly(x_train, d)\n",
    "            \n",
    "            #normalize data (DANGER: the test set must be normalized with the training set's mean and std)\n",
    "            mean = np.mean(x_train_poly)\n",
    "            std = np.std(x_train_poly)\n",
    "            \n",
    "            x_train_ready = (x_train_poly - mean) / std\n",
    "            x_test_ready = (x_test_poly - mean) / std\n",
    "            \n",
    "            \n",
    "            #train model with these parameters and compute the error (MSE or RMSE)\n",
    "        \n",
    "            #ideal : lambdas = np.arange(0,0.03,0.001)\n",
    "            w_star, e_tr = ridge_regression(y_train,x_train_ready, lambda_)\n",
    "        \n",
    "            #ideal : lambdas = np.arange(0,0.3,0.1)\n",
    "            #w_star, e_tr = logistic_regression(y_train, x_train,np.ones(x_train.shape[1])  ,400, lambda_)\n",
    "        \n",
    "            #don't usel least squares with lambda bigger than 0.35 ideal: lambdas = np.arange(0.001,0.13,0.01)\n",
    "            #w_star, e_tr = least_squares_GD(y_train, x_train,np.ones(x_train.shape[1])  ,400, lambda_)    \n",
    "            #w_star, e_tr = least_squares_SGD(y_train, x_train,np.ones(x_train.shape[1])  ,400, lambda_)\n",
    "        \n",
    "            #DON'T REALLY NEED TO DO CROSS VALIDATION FOR THIS ONE ;) BUT PRACTICAL TO RUN IT HERE\n",
    "            #w_star, e_tr = least_squares(y_train, x_train)  \n",
    "        \n",
    "        \n",
    "        \n",
    "            #compare the prediction with the reality\n",
    "            accuracy_training = np.count_nonzero(predict_labels(w_star, x_train_ready) + y_train)/len(y_train)\n",
    "            accuracy_testing = np.count_nonzero(predict_labels(w_star, x_test_ready) + y_test)/len(y_test)\n",
    "        \n",
    "            a_training.append(accuracy_training)\n",
    "            a_testing.append(accuracy_testing)\n",
    "            weights.append(w_star)\n",
    "            print(\"lambda={l:.3f},degree={deg}, Training Accuracy={tr}, Testing Accuracy={te}\".format(\n",
    "                   l=lambda_, tr=a_training[ind], te=a_testing[ind], deg=d))\n",
    "        \n",
    "            #plt.plot(lambdas, a_training,'r--' , lambdas, a_testing, 'g--')\n",
    "            #plt.show\n",
    "    \n",
    "    return weights[np.argmax(a_testing)], a_testing[np.argmax(a_testing)]"
   ]
  },
  {
   "cell_type": "code",
   "execution_count": 124,
   "metadata": {
    "scrolled": true
   },
   "outputs": [
    {
     "name": "stdout",
     "output_type": "stream",
     "text": [
      "lambda=0.000,degree=1, Training Accuracy=0.8244570233871954, Testing Accuracy=0.8282626100880705\n",
      "lambda=0.000,degree=2, Training Accuracy=0.8244570233871954, Testing Accuracy=0.8282626100880705\n",
      "lambda=0.000,degree=3, Training Accuracy=0.8244570233871954, Testing Accuracy=0.8282626100880705\n",
      "lambda=0.000,degree=5, Training Accuracy=0.8244570233871954, Testing Accuracy=0.8282626100880705\n",
      "lambda=0.000,degree=7, Training Accuracy=0.8244570233871954, Testing Accuracy=0.8282626100880705\n",
      "lambda=0.000,degree=12, Training Accuracy=0.8244570233871954, Testing Accuracy=0.8282626100880705\n",
      "lambda=0.001,degree=1, Training Accuracy=0.8282492410004337, Testing Accuracy=0.8347678142514011\n",
      "lambda=0.001,degree=2, Training Accuracy=0.8282492410004337, Testing Accuracy=0.8347678142514011\n",
      "lambda=0.001,degree=3, Training Accuracy=0.8282492410004337, Testing Accuracy=0.8347678142514011\n",
      "lambda=0.001,degree=5, Training Accuracy=0.8282492410004337, Testing Accuracy=0.8347678142514011\n",
      "lambda=0.001,degree=7, Training Accuracy=0.8282492410004337, Testing Accuracy=0.8347678142514011\n",
      "lambda=0.001,degree=12, Training Accuracy=0.8282492410004337, Testing Accuracy=0.8347678142514011\n",
      "lambda=0.001,degree=1, Training Accuracy=0.8011699158149932, Testing Accuracy=0.8097477982385909\n",
      "lambda=0.001,degree=2, Training Accuracy=0.8011699158149932, Testing Accuracy=0.8097477982385909\n",
      "lambda=0.001,degree=3, Training Accuracy=0.8011699158149932, Testing Accuracy=0.8097477982385909\n",
      "lambda=0.001,degree=5, Training Accuracy=0.8011699158149932, Testing Accuracy=0.8097477982385909\n",
      "lambda=0.001,degree=7, Training Accuracy=0.8011699158149932, Testing Accuracy=0.8097477982385909\n",
      "lambda=0.001,degree=12, Training Accuracy=0.8011699158149932, Testing Accuracy=0.8097477982385909\n",
      "lambda=0.002,degree=1, Training Accuracy=0.7442088055070561, Testing Accuracy=0.7471977582065652\n",
      "lambda=0.002,degree=2, Training Accuracy=0.7442088055070561, Testing Accuracy=0.7471977582065652\n",
      "lambda=0.002,degree=3, Training Accuracy=0.7442088055070561, Testing Accuracy=0.7471977582065652\n",
      "lambda=0.002,degree=5, Training Accuracy=0.7442088055070561, Testing Accuracy=0.7471977582065652\n",
      "lambda=0.002,degree=7, Training Accuracy=0.7442088055070561, Testing Accuracy=0.7471977582065652\n",
      "lambda=0.002,degree=12, Training Accuracy=0.7442088055070561, Testing Accuracy=0.7471977582065652\n",
      "lambda=0.002,degree=1, Training Accuracy=0.7445201899445069, Testing Accuracy=0.747898318654924\n",
      "lambda=0.002,degree=2, Training Accuracy=0.7445201899445069, Testing Accuracy=0.747898318654924\n",
      "lambda=0.002,degree=3, Training Accuracy=0.7445201899445069, Testing Accuracy=0.747898318654924\n",
      "lambda=0.002,degree=5, Training Accuracy=0.7445201899445069, Testing Accuracy=0.747898318654924\n",
      "lambda=0.002,degree=7, Training Accuracy=0.7445201899445069, Testing Accuracy=0.747898318654924\n",
      "lambda=0.002,degree=12, Training Accuracy=0.7445201899445069, Testing Accuracy=0.747898318654924\n",
      "lambda=0.003,degree=1, Training Accuracy=0.744531310817273, Testing Accuracy=0.747898318654924\n",
      "lambda=0.003,degree=2, Training Accuracy=0.744531310817273, Testing Accuracy=0.747898318654924\n",
      "lambda=0.003,degree=3, Training Accuracy=0.744531310817273, Testing Accuracy=0.747898318654924\n",
      "lambda=0.003,degree=5, Training Accuracy=0.744531310817273, Testing Accuracy=0.747898318654924\n",
      "lambda=0.003,degree=7, Training Accuracy=0.744531310817273, Testing Accuracy=0.747898318654924\n",
      "lambda=0.003,degree=12, Training Accuracy=0.744531310817273, Testing Accuracy=0.747898318654924\n",
      "lambda=0.003,degree=1, Training Accuracy=0.804439452408225, Testing Accuracy=0.8112489991993594\n",
      "lambda=0.003,degree=2, Training Accuracy=0.804439452408225, Testing Accuracy=0.8112489991993594\n",
      "lambda=0.003,degree=3, Training Accuracy=0.804439452408225, Testing Accuracy=0.8112489991993594\n",
      "lambda=0.003,degree=5, Training Accuracy=0.804439452408225, Testing Accuracy=0.8112489991993594\n",
      "lambda=0.003,degree=7, Training Accuracy=0.804439452408225, Testing Accuracy=0.8112489991993594\n",
      "lambda=0.003,degree=12, Training Accuracy=0.804439452408225, Testing Accuracy=0.8112489991993594\n",
      "lambda=0.004,degree=1, Training Accuracy=0.7575649736991359, Testing Accuracy=0.7639111289031225\n",
      "lambda=0.004,degree=2, Training Accuracy=0.7575649736991359, Testing Accuracy=0.7639111289031225\n",
      "lambda=0.004,degree=3, Training Accuracy=0.7575649736991359, Testing Accuracy=0.7639111289031225\n",
      "lambda=0.004,degree=5, Training Accuracy=0.7575649736991359, Testing Accuracy=0.7639111289031225\n",
      "lambda=0.004,degree=7, Training Accuracy=0.7575649736991359, Testing Accuracy=0.7639111289031225\n",
      "lambda=0.004,degree=12, Training Accuracy=0.7575649736991359, Testing Accuracy=0.7639111289031225\n",
      "lambda=0.004,degree=1, Training Accuracy=0.7444868273262085, Testing Accuracy=0.747898318654924\n",
      "lambda=0.004,degree=2, Training Accuracy=0.7444868273262085, Testing Accuracy=0.747898318654924\n",
      "lambda=0.004,degree=3, Training Accuracy=0.7444868273262085, Testing Accuracy=0.747898318654924\n",
      "lambda=0.004,degree=5, Training Accuracy=0.7444868273262085, Testing Accuracy=0.747898318654924\n",
      "lambda=0.004,degree=7, Training Accuracy=0.7444868273262085, Testing Accuracy=0.747898318654924\n",
      "lambda=0.004,degree=12, Training Accuracy=0.7444868273262085, Testing Accuracy=0.747898318654924\n",
      "lambda=0.005,degree=1, Training Accuracy=0.744531310817273, Testing Accuracy=0.747898318654924\n",
      "lambda=0.005,degree=2, Training Accuracy=0.744531310817273, Testing Accuracy=0.747898318654924\n",
      "lambda=0.005,degree=3, Training Accuracy=0.744531310817273, Testing Accuracy=0.747898318654924\n",
      "lambda=0.005,degree=5, Training Accuracy=0.744531310817273, Testing Accuracy=0.747898318654924\n",
      "lambda=0.005,degree=7, Training Accuracy=0.744531310817273, Testing Accuracy=0.747898318654924\n",
      "lambda=0.005,degree=12, Training Accuracy=0.744531310817273, Testing Accuracy=0.747898318654924\n",
      "lambda=0.005,degree=1, Training Accuracy=0.7443644977257815, Testing Accuracy=0.747898318654924\n",
      "lambda=0.005,degree=2, Training Accuracy=0.7443644977257815, Testing Accuracy=0.747898318654924\n",
      "lambda=0.005,degree=3, Training Accuracy=0.7443644977257815, Testing Accuracy=0.747898318654924\n",
      "lambda=0.005,degree=5, Training Accuracy=0.7443644977257815, Testing Accuracy=0.747898318654924\n",
      "lambda=0.005,degree=7, Training Accuracy=0.7443644977257815, Testing Accuracy=0.747898318654924\n",
      "lambda=0.005,degree=12, Training Accuracy=0.7443644977257815, Testing Accuracy=0.747898318654924\n",
      "lambda=0.005,degree=1, Training Accuracy=0.744531310817273, Testing Accuracy=0.747898318654924\n",
      "lambda=0.005,degree=2, Training Accuracy=0.744531310817273, Testing Accuracy=0.747898318654924\n",
      "lambda=0.005,degree=3, Training Accuracy=0.744531310817273, Testing Accuracy=0.747898318654924\n",
      "lambda=0.005,degree=5, Training Accuracy=0.744531310817273, Testing Accuracy=0.747898318654924\n",
      "lambda=0.005,degree=7, Training Accuracy=0.744531310817273, Testing Accuracy=0.747898318654924\n",
      "lambda=0.005,degree=12, Training Accuracy=0.744531310817273, Testing Accuracy=0.747898318654924\n",
      "lambda=0.006,degree=1, Training Accuracy=0.8034163321137443, Testing Accuracy=0.8109487590072058\n",
      "lambda=0.006,degree=2, Training Accuracy=0.8034163321137443, Testing Accuracy=0.8109487590072058\n",
      "lambda=0.006,degree=3, Training Accuracy=0.8034163321137443, Testing Accuracy=0.8109487590072058\n",
      "lambda=0.006,degree=5, Training Accuracy=0.8034163321137443, Testing Accuracy=0.8109487590072058\n",
      "lambda=0.006,degree=7, Training Accuracy=0.8034163321137443, Testing Accuracy=0.8109487590072058\n",
      "lambda=0.006,degree=12, Training Accuracy=0.8034163321137443, Testing Accuracy=0.8109487590072058\n",
      "lambda=0.007,degree=1, Training Accuracy=0.7552407112910221, Testing Accuracy=0.761208967173739\n",
      "lambda=0.007,degree=2, Training Accuracy=0.7552407112910221, Testing Accuracy=0.761208967173739\n",
      "lambda=0.007,degree=3, Training Accuracy=0.7552407112910221, Testing Accuracy=0.761208967173739\n",
      "lambda=0.007,degree=5, Training Accuracy=0.7552407112910221, Testing Accuracy=0.761208967173739\n",
      "lambda=0.007,degree=7, Training Accuracy=0.7552407112910221, Testing Accuracy=0.761208967173739\n",
      "lambda=0.007,degree=12, Training Accuracy=0.7552407112910221, Testing Accuracy=0.761208967173739\n",
      "lambda=0.007,degree=1, Training Accuracy=0.744531310817273, Testing Accuracy=0.747898318654924\n",
      "lambda=0.007,degree=2, Training Accuracy=0.744531310817273, Testing Accuracy=0.747898318654924\n"
     ]
    },
    {
     "name": "stdout",
     "output_type": "stream",
     "text": [
      "lambda=0.007,degree=3, Training Accuracy=0.744531310817273, Testing Accuracy=0.747898318654924\n",
      "lambda=0.007,degree=5, Training Accuracy=0.744531310817273, Testing Accuracy=0.747898318654924\n",
      "lambda=0.007,degree=7, Training Accuracy=0.744531310817273, Testing Accuracy=0.747898318654924\n",
      "lambda=0.007,degree=12, Training Accuracy=0.744531310817273, Testing Accuracy=0.747898318654924\n",
      "lambda=0.007,degree=1, Training Accuracy=0.744531310817273, Testing Accuracy=0.747898318654924\n",
      "lambda=0.007,degree=2, Training Accuracy=0.744531310817273, Testing Accuracy=0.747898318654924\n",
      "lambda=0.007,degree=3, Training Accuracy=0.744531310817273, Testing Accuracy=0.747898318654924\n",
      "lambda=0.007,degree=5, Training Accuracy=0.744531310817273, Testing Accuracy=0.747898318654924\n",
      "lambda=0.007,degree=7, Training Accuracy=0.744531310817273, Testing Accuracy=0.747898318654924\n",
      "lambda=0.007,degree=12, Training Accuracy=0.744531310817273, Testing Accuracy=0.747898318654924\n",
      "lambda=0.008,degree=1, Training Accuracy=0.7443644977257815, Testing Accuracy=0.747898318654924\n",
      "lambda=0.008,degree=2, Training Accuracy=0.7443644977257815, Testing Accuracy=0.747898318654924\n",
      "lambda=0.008,degree=3, Training Accuracy=0.7443644977257815, Testing Accuracy=0.747898318654924\n",
      "lambda=0.008,degree=5, Training Accuracy=0.7443644977257815, Testing Accuracy=0.747898318654924\n",
      "lambda=0.008,degree=7, Training Accuracy=0.7443644977257815, Testing Accuracy=0.747898318654924\n",
      "lambda=0.008,degree=12, Training Accuracy=0.7443644977257815, Testing Accuracy=0.747898318654924\n",
      "lambda=0.009,degree=1, Training Accuracy=0.744531310817273, Testing Accuracy=0.747898318654924\n",
      "lambda=0.009,degree=2, Training Accuracy=0.744531310817273, Testing Accuracy=0.747898318654924\n",
      "lambda=0.009,degree=3, Training Accuracy=0.744531310817273, Testing Accuracy=0.747898318654924\n",
      "lambda=0.009,degree=5, Training Accuracy=0.744531310817273, Testing Accuracy=0.747898318654924\n",
      "lambda=0.009,degree=7, Training Accuracy=0.744531310817273, Testing Accuracy=0.747898318654924\n",
      "lambda=0.009,degree=12, Training Accuracy=0.744531310817273, Testing Accuracy=0.747898318654924\n",
      "lambda=0.009,degree=1, Training Accuracy=0.8027490797477786, Testing Accuracy=0.8104483586869495\n",
      "lambda=0.009,degree=2, Training Accuracy=0.8027490797477786, Testing Accuracy=0.8104483586869495\n",
      "lambda=0.009,degree=3, Training Accuracy=0.8027490797477786, Testing Accuracy=0.8104483586869495\n",
      "lambda=0.009,degree=5, Training Accuracy=0.8027490797477786, Testing Accuracy=0.8104483586869495\n",
      "lambda=0.009,degree=7, Training Accuracy=0.8027490797477786, Testing Accuracy=0.8104483586869495\n",
      "lambda=0.009,degree=12, Training Accuracy=0.8027490797477786, Testing Accuracy=0.8104483586869495\n",
      "lambda=0.009,degree=1, Training Accuracy=0.7540730196505822, Testing Accuracy=0.7597077662129704\n",
      "lambda=0.009,degree=2, Training Accuracy=0.7540730196505822, Testing Accuracy=0.7597077662129704\n",
      "lambda=0.009,degree=3, Training Accuracy=0.7540730196505822, Testing Accuracy=0.7597077662129704\n",
      "lambda=0.009,degree=5, Training Accuracy=0.7540730196505822, Testing Accuracy=0.7597077662129704\n",
      "lambda=0.009,degree=7, Training Accuracy=0.7540730196505822, Testing Accuracy=0.7597077662129704\n",
      "lambda=0.009,degree=12, Training Accuracy=0.7540730196505822, Testing Accuracy=0.7597077662129704\n",
      "lambda=0.010,degree=1, Training Accuracy=0.744531310817273, Testing Accuracy=0.747898318654924\n",
      "lambda=0.010,degree=2, Training Accuracy=0.744531310817273, Testing Accuracy=0.747898318654924\n",
      "lambda=0.010,degree=3, Training Accuracy=0.744531310817273, Testing Accuracy=0.747898318654924\n",
      "lambda=0.010,degree=5, Training Accuracy=0.744531310817273, Testing Accuracy=0.747898318654924\n",
      "lambda=0.010,degree=7, Training Accuracy=0.744531310817273, Testing Accuracy=0.747898318654924\n",
      "lambda=0.010,degree=12, Training Accuracy=0.744531310817273, Testing Accuracy=0.747898318654924\n",
      "lambda=0.011,degree=1, Training Accuracy=0.744531310817273, Testing Accuracy=0.747898318654924\n",
      "lambda=0.011,degree=2, Training Accuracy=0.744531310817273, Testing Accuracy=0.747898318654924\n",
      "lambda=0.011,degree=3, Training Accuracy=0.744531310817273, Testing Accuracy=0.747898318654924\n",
      "lambda=0.011,degree=5, Training Accuracy=0.744531310817273, Testing Accuracy=0.747898318654924\n",
      "lambda=0.011,degree=7, Training Accuracy=0.744531310817273, Testing Accuracy=0.747898318654924\n",
      "lambda=0.011,degree=12, Training Accuracy=0.744531310817273, Testing Accuracy=0.747898318654924\n",
      "lambda=0.011,degree=1, Training Accuracy=0.7443644977257815, Testing Accuracy=0.747898318654924\n",
      "lambda=0.011,degree=2, Training Accuracy=0.7443644977257815, Testing Accuracy=0.747898318654924\n",
      "lambda=0.011,degree=3, Training Accuracy=0.7443644977257815, Testing Accuracy=0.747898318654924\n",
      "lambda=0.011,degree=5, Training Accuracy=0.7443644977257815, Testing Accuracy=0.747898318654924\n",
      "lambda=0.011,degree=7, Training Accuracy=0.7443644977257815, Testing Accuracy=0.747898318654924\n",
      "lambda=0.011,degree=12, Training Accuracy=0.7443644977257815, Testing Accuracy=0.747898318654924\n",
      "lambda=0.011,degree=1, Training Accuracy=0.744531310817273, Testing Accuracy=0.747898318654924\n",
      "lambda=0.011,degree=2, Training Accuracy=0.744531310817273, Testing Accuracy=0.747898318654924\n",
      "lambda=0.011,degree=3, Training Accuracy=0.744531310817273, Testing Accuracy=0.747898318654924\n",
      "lambda=0.011,degree=5, Training Accuracy=0.744531310817273, Testing Accuracy=0.747898318654924\n"
     ]
    },
    {
     "ename": "KeyboardInterrupt",
     "evalue": "",
     "output_type": "error",
     "traceback": [
      "\u001b[0;31m---------------------------------------------------------------------------\u001b[0m",
      "\u001b[0;31mKeyboardInterrupt\u001b[0m                         Traceback (most recent call last)",
      "\u001b[0;32m<ipython-input-124-fa235b0095a2>\u001b[0m in \u001b[0;36m<module>\u001b[0;34m\u001b[0m\n\u001b[1;32m      1\u001b[0m \u001b[0mdegrees\u001b[0m \u001b[0;34m=\u001b[0m \u001b[0;34m[\u001b[0m\u001b[0;36m1\u001b[0m\u001b[0;34m,\u001b[0m\u001b[0;36m2\u001b[0m\u001b[0;34m,\u001b[0m\u001b[0;36m3\u001b[0m\u001b[0;34m,\u001b[0m\u001b[0;36m5\u001b[0m\u001b[0;34m,\u001b[0m\u001b[0;36m7\u001b[0m\u001b[0;34m,\u001b[0m\u001b[0;36m12\u001b[0m\u001b[0;34m]\u001b[0m\u001b[0;34m\u001b[0m\u001b[0;34m\u001b[0m\u001b[0m\n\u001b[0;32m----> 2\u001b[0;31m \u001b[0mcrossValidation\u001b[0m\u001b[0;34m(\u001b[0m\u001b[0mcleaned_with_median\u001b[0m\u001b[0;34m[\u001b[0m\u001b[0;36m0\u001b[0m\u001b[0;34m]\u001b[0m\u001b[0;34m,\u001b[0m \u001b[0msplit_y\u001b[0m\u001b[0;34m[\u001b[0m\u001b[0;36m0\u001b[0m\u001b[0;34m]\u001b[0m\u001b[0;34m,\u001b[0m \u001b[0;36m0.9\u001b[0m\u001b[0;34m,\u001b[0m \u001b[0mdegrees\u001b[0m \u001b[0;34m,\u001b[0m\u001b[0;36m6\u001b[0m\u001b[0;34m)\u001b[0m\u001b[0;34m\u001b[0m\u001b[0;34m\u001b[0m\u001b[0m\n\u001b[0m",
      "\u001b[0;32m<ipython-input-123-2f515f67f9c1>\u001b[0m in \u001b[0;36mcrossValidation\u001b[0;34m(x, y, splitRatio, degree, seed)\u001b[0m\n\u001b[1;32m     20\u001b[0m             \u001b[0;31m#perform polynomial feature expension\u001b[0m\u001b[0;34m\u001b[0m\u001b[0;34m\u001b[0m\u001b[0;34m\u001b[0m\u001b[0m\n\u001b[1;32m     21\u001b[0m             \u001b[0mx_test_poly\u001b[0m \u001b[0;34m=\u001b[0m \u001b[0mbuild_poly\u001b[0m\u001b[0;34m(\u001b[0m\u001b[0mx_test\u001b[0m\u001b[0;34m,\u001b[0m\u001b[0md\u001b[0m\u001b[0;34m)\u001b[0m\u001b[0;34m\u001b[0m\u001b[0;34m\u001b[0m\u001b[0m\n\u001b[0;32m---> 22\u001b[0;31m             \u001b[0mx_train_poly\u001b[0m \u001b[0;34m=\u001b[0m \u001b[0mbuild_poly\u001b[0m\u001b[0;34m(\u001b[0m\u001b[0mx_train\u001b[0m\u001b[0;34m,\u001b[0m \u001b[0md\u001b[0m\u001b[0;34m)\u001b[0m\u001b[0;34m\u001b[0m\u001b[0;34m\u001b[0m\u001b[0m\n\u001b[0m\u001b[1;32m     23\u001b[0m \u001b[0;34m\u001b[0m\u001b[0m\n\u001b[1;32m     24\u001b[0m             \u001b[0;31m#normalize data (DANGER: the test set must be normalized with the training set's mean and std)\u001b[0m\u001b[0;34m\u001b[0m\u001b[0;34m\u001b[0m\u001b[0;34m\u001b[0m\u001b[0m\n",
      "\u001b[0;32m<ipython-input-106-e379350a9b8a>\u001b[0m in \u001b[0;36mbuild_poly\u001b[0;34m(x, degree)\u001b[0m\n\u001b[1;32m      4\u001b[0m \u001b[0;34m\u001b[0m\u001b[0m\n\u001b[1;32m      5\u001b[0m     \u001b[0;32mfor\u001b[0m \u001b[0md\u001b[0m \u001b[0;32min\u001b[0m \u001b[0mrange\u001b[0m \u001b[0;34m(\u001b[0m\u001b[0;36m1\u001b[0m\u001b[0;34m,\u001b[0m \u001b[0mdegree\u001b[0m \u001b[0;34m+\u001b[0m\u001b[0;36m1\u001b[0m\u001b[0;34m)\u001b[0m\u001b[0;34m:\u001b[0m\u001b[0;34m\u001b[0m\u001b[0;34m\u001b[0m\u001b[0m\n\u001b[0;32m----> 6\u001b[0;31m         \u001b[0mx_extended\u001b[0m \u001b[0;34m=\u001b[0m \u001b[0mnp\u001b[0m\u001b[0;34m.\u001b[0m\u001b[0mc_\u001b[0m\u001b[0;34m[\u001b[0m\u001b[0mx_extended\u001b[0m\u001b[0;34m,\u001b[0m \u001b[0mx\u001b[0m\u001b[0;34m**\u001b[0m\u001b[0md\u001b[0m\u001b[0;34m]\u001b[0m\u001b[0;34m\u001b[0m\u001b[0;34m\u001b[0m\u001b[0m\n\u001b[0m\u001b[1;32m      7\u001b[0m \u001b[0;34m\u001b[0m\u001b[0m\n\u001b[1;32m      8\u001b[0m \u001b[0;34m\u001b[0m\u001b[0m\n",
      "\u001b[0;31mKeyboardInterrupt\u001b[0m: "
     ]
    }
   ],
   "source": [
    "degrees = [1,2,3,5,7,12]\n",
    "crossValidation(cleaned_with_median[0], split_y[0], 0.9, degrees ,6)"
   ]
  },
  {
   "cell_type": "markdown",
   "metadata": {},
   "source": [
    "## Generate predictions and save ouput in csv format for submission:"
   ]
  },
  {
   "cell_type": "code",
   "execution_count": 103,
   "metadata": {},
   "outputs": [],
   "source": [
    "DATA_TEST_PATH = '../data/test.csv' \n",
    "y_donotUse, tX_test, ids_test = load_csv_data(DATA_TEST_PATH)"
   ]
  },
  {
   "cell_type": "code",
   "execution_count": 125,
   "metadata": {},
   "outputs": [
    {
     "name": "stdout",
     "output_type": "stream",
     "text": [
      "Statistics \n",
      "Type :\n",
      "0\n",
      "[0.2605448 0.        0.        0.        1.        1.        1.\n",
      " 0.        0.        0.        0.        0.        1.        0.\n",
      " 0.        0.        0.        0.        0.        0.        0.\n",
      " 0.        0.        1.        1.        1.        1.        1.\n",
      " 1.        0.       ]\n",
      "Statistics \n",
      "Type :\n",
      "1\n",
      "[0.09834149 0.         0.         0.         1.         1.\n",
      " 1.         0.         0.         0.         0.         0.\n",
      " 1.         0.         0.         0.         0.         0.\n",
      " 0.         0.         0.         0.         0.         0.\n",
      " 0.         0.         1.         1.         1.         0.        ]\n",
      "Statistics \n",
      "Type :\n",
      "2\n",
      "[0.05881481 0.         0.         0.         0.         0.\n",
      " 0.         0.         0.         0.         0.         0.\n",
      " 0.         0.         0.         0.         0.         0.\n",
      " 0.         0.         0.         0.         0.         0.\n",
      " 0.         0.         0.         0.         0.         0.        ]\n",
      "Statistics \n",
      "Type :\n",
      "3\n",
      "[0.06376737 0.         0.         0.         0.         0.\n",
      " 0.         0.         0.         0.         0.         0.\n",
      " 0.         0.         0.         0.         0.         0.\n",
      " 0.         0.         0.         0.         0.         0.\n",
      " 0.         0.         0.         0.         0.         0.        ]\n",
      "lambda=0.000,degree=1, Training Accuracy=0.8244570233871954, Testing Accuracy=0.8282626100880705\n",
      "lambda=0.000,degree=2, Training Accuracy=0.8244570233871954, Testing Accuracy=0.8282626100880705\n",
      "lambda=0.000,degree=3, Training Accuracy=0.8244570233871954, Testing Accuracy=0.8282626100880705\n",
      "lambda=0.000,degree=5, Training Accuracy=0.8244570233871954, Testing Accuracy=0.8282626100880705\n",
      "lambda=0.001,degree=1, Training Accuracy=0.8282492410004337, Testing Accuracy=0.8347678142514011\n",
      "lambda=0.001,degree=2, Training Accuracy=0.8282492410004337, Testing Accuracy=0.8347678142514011\n",
      "lambda=0.001,degree=3, Training Accuracy=0.8282492410004337, Testing Accuracy=0.8347678142514011\n",
      "lambda=0.001,degree=5, Training Accuracy=0.8282492410004337, Testing Accuracy=0.8347678142514011\n",
      "lambda=0.001,degree=1, Training Accuracy=0.8011699158149932, Testing Accuracy=0.8097477982385909\n",
      "lambda=0.001,degree=2, Training Accuracy=0.8011699158149932, Testing Accuracy=0.8097477982385909\n",
      "lambda=0.001,degree=3, Training Accuracy=0.8011699158149932, Testing Accuracy=0.8097477982385909\n",
      "lambda=0.001,degree=5, Training Accuracy=0.8011699158149932, Testing Accuracy=0.8097477982385909\n",
      "lambda=0.002,degree=1, Training Accuracy=0.7442088055070561, Testing Accuracy=0.7471977582065652\n",
      "lambda=0.002,degree=2, Training Accuracy=0.7442088055070561, Testing Accuracy=0.7471977582065652\n",
      "lambda=0.002,degree=3, Training Accuracy=0.7442088055070561, Testing Accuracy=0.7471977582065652\n",
      "lambda=0.002,degree=5, Training Accuracy=0.7442088055070561, Testing Accuracy=0.7471977582065652\n",
      "lambda=0.002,degree=1, Training Accuracy=0.804439452408225, Testing Accuracy=0.8112489991993594\n",
      "lambda=0.002,degree=2, Training Accuracy=0.804439452408225, Testing Accuracy=0.8112489991993594\n",
      "lambda=0.002,degree=3, Training Accuracy=0.804439452408225, Testing Accuracy=0.8112489991993594\n",
      "lambda=0.002,degree=5, Training Accuracy=0.804439452408225, Testing Accuracy=0.8112489991993594\n",
      "lambda=0.003,degree=1, Training Accuracy=0.7575649736991359, Testing Accuracy=0.7639111289031225\n",
      "lambda=0.003,degree=2, Training Accuracy=0.7575649736991359, Testing Accuracy=0.7639111289031225\n",
      "lambda=0.003,degree=3, Training Accuracy=0.7575649736991359, Testing Accuracy=0.7639111289031225\n",
      "lambda=0.003,degree=5, Training Accuracy=0.7575649736991359, Testing Accuracy=0.7639111289031225\n",
      "lambda=0.003,degree=1, Training Accuracy=0.7444868273262085, Testing Accuracy=0.747898318654924\n",
      "lambda=0.003,degree=2, Training Accuracy=0.7444868273262085, Testing Accuracy=0.747898318654924\n",
      "lambda=0.003,degree=3, Training Accuracy=0.7444868273262085, Testing Accuracy=0.747898318654924\n",
      "lambda=0.003,degree=5, Training Accuracy=0.7444868273262085, Testing Accuracy=0.747898318654924\n",
      "lambda=0.004,degree=1, Training Accuracy=0.744531310817273, Testing Accuracy=0.747898318654924\n",
      "lambda=0.004,degree=2, Training Accuracy=0.744531310817273, Testing Accuracy=0.747898318654924\n",
      "lambda=0.004,degree=3, Training Accuracy=0.744531310817273, Testing Accuracy=0.747898318654924\n",
      "lambda=0.004,degree=5, Training Accuracy=0.744531310817273, Testing Accuracy=0.747898318654924\n",
      "lambda=0.004,degree=1, Training Accuracy=0.8034163321137443, Testing Accuracy=0.8109487590072058\n",
      "lambda=0.004,degree=2, Training Accuracy=0.8034163321137443, Testing Accuracy=0.8109487590072058\n",
      "lambda=0.004,degree=3, Training Accuracy=0.8034163321137443, Testing Accuracy=0.8109487590072058\n",
      "lambda=0.004,degree=5, Training Accuracy=0.8034163321137443, Testing Accuracy=0.8109487590072058\n",
      "lambda=0.005,degree=1, Training Accuracy=0.7552407112910221, Testing Accuracy=0.761208967173739\n",
      "lambda=0.005,degree=2, Training Accuracy=0.7552407112910221, Testing Accuracy=0.761208967173739\n",
      "lambda=0.005,degree=3, Training Accuracy=0.7552407112910221, Testing Accuracy=0.761208967173739\n",
      "lambda=0.005,degree=5, Training Accuracy=0.7552407112910221, Testing Accuracy=0.761208967173739\n",
      "lambda=0.005,degree=1, Training Accuracy=0.744531310817273, Testing Accuracy=0.747898318654924\n",
      "lambda=0.005,degree=2, Training Accuracy=0.744531310817273, Testing Accuracy=0.747898318654924\n",
      "lambda=0.005,degree=3, Training Accuracy=0.744531310817273, Testing Accuracy=0.747898318654924\n",
      "lambda=0.005,degree=5, Training Accuracy=0.744531310817273, Testing Accuracy=0.747898318654924\n",
      "lambda=0.005,degree=1, Training Accuracy=0.744531310817273, Testing Accuracy=0.747898318654924\n",
      "lambda=0.005,degree=2, Training Accuracy=0.744531310817273, Testing Accuracy=0.747898318654924\n",
      "lambda=0.005,degree=3, Training Accuracy=0.744531310817273, Testing Accuracy=0.747898318654924\n",
      "lambda=0.005,degree=5, Training Accuracy=0.744531310817273, Testing Accuracy=0.747898318654924\n",
      "lambda=0.006,degree=1, Training Accuracy=0.8027490797477786, Testing Accuracy=0.8104483586869495\n",
      "lambda=0.006,degree=2, Training Accuracy=0.8027490797477786, Testing Accuracy=0.8104483586869495\n",
      "lambda=0.006,degree=3, Training Accuracy=0.8027490797477786, Testing Accuracy=0.8104483586869495\n",
      "lambda=0.006,degree=5, Training Accuracy=0.8027490797477786, Testing Accuracy=0.8104483586869495\n",
      "lambda=0.007,degree=1, Training Accuracy=0.7540730196505822, Testing Accuracy=0.7597077662129704\n",
      "lambda=0.007,degree=2, Training Accuracy=0.7540730196505822, Testing Accuracy=0.7597077662129704\n",
      "lambda=0.007,degree=3, Training Accuracy=0.7540730196505822, Testing Accuracy=0.7597077662129704\n",
      "lambda=0.007,degree=5, Training Accuracy=0.7540730196505822, Testing Accuracy=0.7597077662129704\n",
      "lambda=0.007,degree=1, Training Accuracy=0.744531310817273, Testing Accuracy=0.747898318654924\n",
      "lambda=0.007,degree=2, Training Accuracy=0.744531310817273, Testing Accuracy=0.747898318654924\n",
      "lambda=0.007,degree=3, Training Accuracy=0.744531310817273, Testing Accuracy=0.747898318654924\n",
      "lambda=0.007,degree=5, Training Accuracy=0.744531310817273, Testing Accuracy=0.747898318654924\n",
      "lambda=0.007,degree=1, Training Accuracy=0.744531310817273, Testing Accuracy=0.747898318654924\n",
      "lambda=0.007,degree=2, Training Accuracy=0.744531310817273, Testing Accuracy=0.747898318654924\n",
      "lambda=0.007,degree=3, Training Accuracy=0.744531310817273, Testing Accuracy=0.747898318654924\n",
      "lambda=0.007,degree=5, Training Accuracy=0.744531310817273, Testing Accuracy=0.747898318654924\n",
      "lambda=0.008,degree=1, Training Accuracy=0.8024599370558602, Testing Accuracy=0.8098478783026422\n",
      "lambda=0.008,degree=2, Training Accuracy=0.8024599370558602, Testing Accuracy=0.8098478783026422\n",
      "lambda=0.008,degree=3, Training Accuracy=0.8024599370558602, Testing Accuracy=0.8098478783026422\n",
      "lambda=0.008,degree=5, Training Accuracy=0.8024599370558602, Testing Accuracy=0.8098478783026422\n",
      "lambda=0.009,degree=1, Training Accuracy=0.7527051523003525, Testing Accuracy=0.7591072858286629\n",
      "lambda=0.009,degree=2, Training Accuracy=0.7527051523003525, Testing Accuracy=0.7591072858286629\n",
      "lambda=0.009,degree=3, Training Accuracy=0.7527051523003525, Testing Accuracy=0.7591072858286629\n",
      "lambda=0.009,degree=5, Training Accuracy=0.7527051523003525, Testing Accuracy=0.7591072858286629\n",
      "lambda=0.009,degree=1, Training Accuracy=0.744531310817273, Testing Accuracy=0.747898318654924\n",
      "lambda=0.009,degree=2, Training Accuracy=0.744531310817273, Testing Accuracy=0.747898318654924\n"
     ]
    },
    {
     "name": "stdout",
     "output_type": "stream",
     "text": [
      "lambda=0.009,degree=3, Training Accuracy=0.744531310817273, Testing Accuracy=0.747898318654924\n",
      "lambda=0.009,degree=5, Training Accuracy=0.744531310817273, Testing Accuracy=0.747898318654924\n",
      "lambda=0.009,degree=1, Training Accuracy=0.744531310817273, Testing Accuracy=0.747898318654924\n",
      "lambda=0.009,degree=2, Training Accuracy=0.744531310817273, Testing Accuracy=0.747898318654924\n",
      "lambda=0.009,degree=3, Training Accuracy=0.744531310817273, Testing Accuracy=0.747898318654924\n",
      "lambda=0.009,degree=5, Training Accuracy=0.744531310817273, Testing Accuracy=0.747898318654924\n",
      "lambda=0.010,degree=1, Training Accuracy=0.8020818273818129, Testing Accuracy=0.8099479583666933\n",
      "lambda=0.010,degree=2, Training Accuracy=0.8020818273818129, Testing Accuracy=0.8099479583666933\n",
      "lambda=0.010,degree=3, Training Accuracy=0.8020818273818129, Testing Accuracy=0.8099479583666933\n",
      "lambda=0.010,degree=5, Training Accuracy=0.8020818273818129, Testing Accuracy=0.8099479583666933\n",
      "lambda=0.011,degree=1, Training Accuracy=0.7518488450973633, Testing Accuracy=0.7575060048038431\n",
      "lambda=0.011,degree=2, Training Accuracy=0.7518488450973633, Testing Accuracy=0.7575060048038431\n",
      "lambda=0.011,degree=3, Training Accuracy=0.7518488450973633, Testing Accuracy=0.7575060048038431\n",
      "lambda=0.011,degree=5, Training Accuracy=0.7518488450973633, Testing Accuracy=0.7575060048038431\n",
      "lambda=0.011,degree=1, Training Accuracy=0.744531310817273, Testing Accuracy=0.747898318654924\n",
      "lambda=0.011,degree=2, Training Accuracy=0.744531310817273, Testing Accuracy=0.747898318654924\n",
      "lambda=0.011,degree=3, Training Accuracy=0.744531310817273, Testing Accuracy=0.747898318654924\n",
      "lambda=0.011,degree=5, Training Accuracy=0.744531310817273, Testing Accuracy=0.747898318654924\n",
      "lambda=0.011,degree=1, Training Accuracy=0.744531310817273, Testing Accuracy=0.747898318654924\n",
      "lambda=0.011,degree=2, Training Accuracy=0.744531310817273, Testing Accuracy=0.747898318654924\n",
      "lambda=0.011,degree=3, Training Accuracy=0.744531310817273, Testing Accuracy=0.747898318654924\n",
      "lambda=0.011,degree=5, Training Accuracy=0.744531310817273, Testing Accuracy=0.747898318654924\n",
      "lambda=0.012,degree=1, Training Accuracy=0.8019928603996842, Testing Accuracy=0.8096477181745396\n",
      "lambda=0.012,degree=2, Training Accuracy=0.8019928603996842, Testing Accuracy=0.8096477181745396\n",
      "lambda=0.012,degree=3, Training Accuracy=0.8019928603996842, Testing Accuracy=0.8096477181745396\n",
      "lambda=0.012,degree=5, Training Accuracy=0.8019928603996842, Testing Accuracy=0.8096477181745396\n",
      "lambda=0.013,degree=1, Training Accuracy=0.7511927136041636, Testing Accuracy=0.7559047237790232\n",
      "lambda=0.013,degree=2, Training Accuracy=0.7511927136041636, Testing Accuracy=0.7559047237790232\n",
      "lambda=0.013,degree=3, Training Accuracy=0.7511927136041636, Testing Accuracy=0.7559047237790232\n",
      "lambda=0.013,degree=5, Training Accuracy=0.7511927136041636, Testing Accuracy=0.7559047237790232\n",
      "lambda=0.013,degree=1, Training Accuracy=0.744531310817273, Testing Accuracy=0.747898318654924\n",
      "lambda=0.013,degree=2, Training Accuracy=0.744531310817273, Testing Accuracy=0.747898318654924\n",
      "lambda=0.013,degree=3, Training Accuracy=0.744531310817273, Testing Accuracy=0.747898318654924\n",
      "lambda=0.013,degree=5, Training Accuracy=0.744531310817273, Testing Accuracy=0.747898318654924\n",
      "lambda=0.013,degree=1, Training Accuracy=0.744531310817273, Testing Accuracy=0.747898318654924\n",
      "lambda=0.013,degree=2, Training Accuracy=0.744531310817273, Testing Accuracy=0.747898318654924\n",
      "lambda=0.013,degree=3, Training Accuracy=0.744531310817273, Testing Accuracy=0.747898318654924\n",
      "lambda=0.013,degree=5, Training Accuracy=0.744531310817273, Testing Accuracy=0.747898318654924\n",
      "lambda=0.014,degree=1, Training Accuracy=0.8015257837435081, Testing Accuracy=0.8090472377902321\n",
      "lambda=0.014,degree=2, Training Accuracy=0.8015257837435081, Testing Accuracy=0.8090472377902321\n",
      "lambda=0.014,degree=3, Training Accuracy=0.8015257837435081, Testing Accuracy=0.8090472377902321\n",
      "lambda=0.014,degree=5, Training Accuracy=0.8015257837435081, Testing Accuracy=0.8090472377902321\n",
      "lambda=0.015,degree=1, Training Accuracy=0.750403131637771, Testing Accuracy=0.7554043234587671\n",
      "lambda=0.015,degree=2, Training Accuracy=0.750403131637771, Testing Accuracy=0.7554043234587671\n",
      "lambda=0.015,degree=3, Training Accuracy=0.750403131637771, Testing Accuracy=0.7554043234587671\n",
      "lambda=0.015,degree=5, Training Accuracy=0.750403131637771, Testing Accuracy=0.7554043234587671\n",
      "lambda=0.015,degree=1, Training Accuracy=0.744531310817273, Testing Accuracy=0.747898318654924\n",
      "lambda=0.015,degree=2, Training Accuracy=0.744531310817273, Testing Accuracy=0.747898318654924\n",
      "lambda=0.015,degree=3, Training Accuracy=0.744531310817273, Testing Accuracy=0.747898318654924\n",
      "lambda=0.015,degree=5, Training Accuracy=0.744531310817273, Testing Accuracy=0.747898318654924\n",
      "lambda=0.015,degree=1, Training Accuracy=0.744531310817273, Testing Accuracy=0.747898318654924\n",
      "lambda=0.015,degree=2, Training Accuracy=0.744531310817273, Testing Accuracy=0.747898318654924\n",
      "lambda=0.015,degree=3, Training Accuracy=0.744531310817273, Testing Accuracy=0.747898318654924\n",
      "lambda=0.015,degree=5, Training Accuracy=0.744531310817273, Testing Accuracy=0.747898318654924\n",
      "lambda=0.016,degree=1, Training Accuracy=0.8012366410515898, Testing Accuracy=0.808546837469976\n",
      "lambda=0.016,degree=2, Training Accuracy=0.8012366410515898, Testing Accuracy=0.808546837469976\n",
      "lambda=0.016,degree=3, Training Accuracy=0.8012366410515898, Testing Accuracy=0.808546837469976\n",
      "lambda=0.016,degree=5, Training Accuracy=0.8012366410515898, Testing Accuracy=0.808546837469976\n",
      "lambda=0.017,degree=1, Training Accuracy=0.7498359671267001, Testing Accuracy=0.7543034427542034\n",
      "lambda=0.017,degree=2, Training Accuracy=0.7498359671267001, Testing Accuracy=0.7543034427542034\n",
      "lambda=0.017,degree=3, Training Accuracy=0.7498359671267001, Testing Accuracy=0.7543034427542034\n",
      "lambda=0.017,degree=5, Training Accuracy=0.7498359671267001, Testing Accuracy=0.7543034427542034\n",
      "lambda=0.017,degree=1, Training Accuracy=0.744531310817273, Testing Accuracy=0.747898318654924\n",
      "lambda=0.017,degree=2, Training Accuracy=0.744531310817273, Testing Accuracy=0.747898318654924\n",
      "lambda=0.017,degree=3, Training Accuracy=0.744531310817273, Testing Accuracy=0.747898318654924\n",
      "lambda=0.017,degree=5, Training Accuracy=0.744531310817273, Testing Accuracy=0.747898318654924\n",
      "lambda=0.018,degree=1, Training Accuracy=0.744531310817273, Testing Accuracy=0.747898318654924\n",
      "lambda=0.018,degree=2, Training Accuracy=0.744531310817273, Testing Accuracy=0.747898318654924\n",
      "lambda=0.018,degree=3, Training Accuracy=0.744531310817273, Testing Accuracy=0.747898318654924\n",
      "lambda=0.018,degree=5, Training Accuracy=0.744531310817273, Testing Accuracy=0.747898318654924\n",
      "lambda=0.018,degree=1, Training Accuracy=0.801025344469034, Testing Accuracy=0.8080464371497198\n",
      "lambda=0.018,degree=2, Training Accuracy=0.801025344469034, Testing Accuracy=0.8080464371497198\n",
      "lambda=0.018,degree=3, Training Accuracy=0.801025344469034, Testing Accuracy=0.8080464371497198\n",
      "lambda=0.018,degree=5, Training Accuracy=0.801025344469034, Testing Accuracy=0.8080464371497198\n",
      "lambda=0.018,degree=1, Training Accuracy=0.7492688026156292, Testing Accuracy=0.7532025620496398\n",
      "lambda=0.018,degree=2, Training Accuracy=0.7492688026156292, Testing Accuracy=0.7532025620496398\n",
      "lambda=0.018,degree=3, Training Accuracy=0.7492688026156292, Testing Accuracy=0.7532025620496398\n",
      "lambda=0.018,degree=5, Training Accuracy=0.7492688026156292, Testing Accuracy=0.7532025620496398\n",
      "lambda=0.019,degree=1, Training Accuracy=0.744531310817273, Testing Accuracy=0.747898318654924\n",
      "lambda=0.019,degree=2, Training Accuracy=0.744531310817273, Testing Accuracy=0.747898318654924\n",
      "lambda=0.019,degree=3, Training Accuracy=0.744531310817273, Testing Accuracy=0.747898318654924\n",
      "lambda=0.019,degree=5, Training Accuracy=0.744531310817273, Testing Accuracy=0.747898318654924\n",
      "lambda=0.019,degree=1, Training Accuracy=0.744531310817273, Testing Accuracy=0.747898318654924\n",
      "lambda=0.019,degree=2, Training Accuracy=0.744531310817273, Testing Accuracy=0.747898318654924\n",
      "lambda=0.019,degree=3, Training Accuracy=0.744531310817273, Testing Accuracy=0.747898318654924\n",
      "lambda=0.019,degree=5, Training Accuracy=0.744531310817273, Testing Accuracy=0.747898318654924\n",
      "lambda=0.020,degree=1, Training Accuracy=0.8008474105047764, Testing Accuracy=0.8076461168935148\n",
      "lambda=0.020,degree=2, Training Accuracy=0.8008474105047764, Testing Accuracy=0.8076461168935148\n"
     ]
    },
    {
     "name": "stdout",
     "output_type": "stream",
     "text": [
      "lambda=0.020,degree=3, Training Accuracy=0.8008474105047764, Testing Accuracy=0.8076461168935148\n",
      "lambda=0.020,degree=5, Training Accuracy=0.8008474105047764, Testing Accuracy=0.8076461168935148\n",
      "lambda=0.021,degree=1, Training Accuracy=0.7487572424683889, Testing Accuracy=0.7524019215372297\n",
      "lambda=0.021,degree=2, Training Accuracy=0.7487572424683889, Testing Accuracy=0.7524019215372297\n",
      "lambda=0.021,degree=3, Training Accuracy=0.7487572424683889, Testing Accuracy=0.7524019215372297\n",
      "lambda=0.021,degree=5, Training Accuracy=0.7487572424683889, Testing Accuracy=0.7524019215372297\n",
      "lambda=0.021,degree=1, Training Accuracy=0.744531310817273, Testing Accuracy=0.747898318654924\n",
      "lambda=0.021,degree=2, Training Accuracy=0.744531310817273, Testing Accuracy=0.747898318654924\n",
      "lambda=0.021,degree=3, Training Accuracy=0.744531310817273, Testing Accuracy=0.747898318654924\n",
      "lambda=0.021,degree=5, Training Accuracy=0.744531310817273, Testing Accuracy=0.747898318654924\n",
      "lambda=0.022,degree=1, Training Accuracy=0.744531310817273, Testing Accuracy=0.747898318654924\n",
      "lambda=0.022,degree=2, Training Accuracy=0.744531310817273, Testing Accuracy=0.747898318654924\n",
      "lambda=0.022,degree=3, Training Accuracy=0.744531310817273, Testing Accuracy=0.747898318654924\n",
      "lambda=0.022,degree=5, Training Accuracy=0.744531310817273, Testing Accuracy=0.747898318654924\n",
      "lambda=0.022,degree=1, Training Accuracy=0.8007918061409459, Testing Accuracy=0.807345876701361\n",
      "lambda=0.022,degree=2, Training Accuracy=0.8007918061409459, Testing Accuracy=0.807345876701361\n",
      "lambda=0.022,degree=3, Training Accuracy=0.8007918061409459, Testing Accuracy=0.807345876701361\n",
      "lambda=0.022,degree=5, Training Accuracy=0.8007918061409459, Testing Accuracy=0.807345876701361\n",
      "lambda=0.022,degree=1, Training Accuracy=0.7482011988300842, Testing Accuracy=0.752101681345076\n",
      "lambda=0.022,degree=2, Training Accuracy=0.7482011988300842, Testing Accuracy=0.752101681345076\n",
      "lambda=0.022,degree=3, Training Accuracy=0.7482011988300842, Testing Accuracy=0.752101681345076\n",
      "lambda=0.022,degree=5, Training Accuracy=0.7482011988300842, Testing Accuracy=0.752101681345076\n",
      "lambda=0.023,degree=1, Training Accuracy=0.744531310817273, Testing Accuracy=0.747898318654924\n"
     ]
    },
    {
     "ename": "KeyboardInterrupt",
     "evalue": "",
     "output_type": "error",
     "traceback": [
      "\u001b[0;31m---------------------------------------------------------------------------\u001b[0m",
      "\u001b[0;31mKeyboardInterrupt\u001b[0m                         Traceback (most recent call last)",
      "\u001b[0;32m<ipython-input-125-7ca2fc36534f>\u001b[0m in \u001b[0;36m<module>\u001b[0;34m\u001b[0m\n\u001b[1;32m     15\u001b[0m \u001b[0;34m\u001b[0m\u001b[0m\n\u001b[1;32m     16\u001b[0m \u001b[0;32mfor\u001b[0m \u001b[0mi\u001b[0m \u001b[0;32min\u001b[0m \u001b[0mrange\u001b[0m\u001b[0;34m(\u001b[0m\u001b[0;36m4\u001b[0m\u001b[0;34m)\u001b[0m\u001b[0;34m:\u001b[0m\u001b[0;34m\u001b[0m\u001b[0;34m\u001b[0m\u001b[0m\n\u001b[0;32m---> 17\u001b[0;31m     \u001b[0mw_star\u001b[0m\u001b[0;34m,\u001b[0m \u001b[0maccuracy\u001b[0m \u001b[0;34m=\u001b[0m \u001b[0mcrossValidation\u001b[0m\u001b[0;34m(\u001b[0m\u001b[0mcleaned_with_median\u001b[0m\u001b[0;34m[\u001b[0m\u001b[0mi\u001b[0m\u001b[0;34m]\u001b[0m\u001b[0;34m,\u001b[0m \u001b[0msplit_y\u001b[0m\u001b[0;34m[\u001b[0m\u001b[0mi\u001b[0m\u001b[0;34m]\u001b[0m\u001b[0;34m,\u001b[0m \u001b[0;36m0.9\u001b[0m\u001b[0;34m,\u001b[0m \u001b[0mdegrees\u001b[0m \u001b[0;34m,\u001b[0m\u001b[0;36m6\u001b[0m\u001b[0;34m)\u001b[0m\u001b[0;34m\u001b[0m\u001b[0;34m\u001b[0m\u001b[0m\n\u001b[0m\u001b[1;32m     18\u001b[0m \u001b[0;34m\u001b[0m\u001b[0m\n\u001b[1;32m     19\u001b[0m     \u001b[0my_res\u001b[0m\u001b[0;34m.\u001b[0m\u001b[0mappend\u001b[0m\u001b[0;34m(\u001b[0m\u001b[0mpredict_labels\u001b[0m\u001b[0;34m(\u001b[0m\u001b[0mw_star\u001b[0m\u001b[0;34m,\u001b[0m \u001b[0mnormalize\u001b[0m\u001b[0;34m(\u001b[0m\u001b[0msplit_x_with_median\u001b[0m\u001b[0;34m[\u001b[0m\u001b[0mi\u001b[0m\u001b[0;34m]\u001b[0m\u001b[0;34m)\u001b[0m\u001b[0;34m)\u001b[0m\u001b[0;34m)\u001b[0m\u001b[0;34m\u001b[0m\u001b[0;34m\u001b[0m\u001b[0m\n",
      "\u001b[0;32m<ipython-input-123-2f515f67f9c1>\u001b[0m in \u001b[0;36mcrossValidation\u001b[0;34m(x, y, splitRatio, degree, seed)\u001b[0m\n\u001b[1;32m     20\u001b[0m             \u001b[0;31m#perform polynomial feature expension\u001b[0m\u001b[0;34m\u001b[0m\u001b[0;34m\u001b[0m\u001b[0;34m\u001b[0m\u001b[0m\n\u001b[1;32m     21\u001b[0m             \u001b[0mx_test_poly\u001b[0m \u001b[0;34m=\u001b[0m \u001b[0mbuild_poly\u001b[0m\u001b[0;34m(\u001b[0m\u001b[0mx_test\u001b[0m\u001b[0;34m,\u001b[0m\u001b[0md\u001b[0m\u001b[0;34m)\u001b[0m\u001b[0;34m\u001b[0m\u001b[0;34m\u001b[0m\u001b[0m\n\u001b[0;32m---> 22\u001b[0;31m             \u001b[0mx_train_poly\u001b[0m \u001b[0;34m=\u001b[0m \u001b[0mbuild_poly\u001b[0m\u001b[0;34m(\u001b[0m\u001b[0mx_train\u001b[0m\u001b[0;34m,\u001b[0m \u001b[0md\u001b[0m\u001b[0;34m)\u001b[0m\u001b[0;34m\u001b[0m\u001b[0;34m\u001b[0m\u001b[0m\n\u001b[0m\u001b[1;32m     23\u001b[0m \u001b[0;34m\u001b[0m\u001b[0m\n\u001b[1;32m     24\u001b[0m             \u001b[0;31m#normalize data (DANGER: the test set must be normalized with the training set's mean and std)\u001b[0m\u001b[0;34m\u001b[0m\u001b[0;34m\u001b[0m\u001b[0;34m\u001b[0m\u001b[0m\n",
      "\u001b[0;32m<ipython-input-106-e379350a9b8a>\u001b[0m in \u001b[0;36mbuild_poly\u001b[0;34m(x, degree)\u001b[0m\n\u001b[1;32m      4\u001b[0m \u001b[0;34m\u001b[0m\u001b[0m\n\u001b[1;32m      5\u001b[0m     \u001b[0;32mfor\u001b[0m \u001b[0md\u001b[0m \u001b[0;32min\u001b[0m \u001b[0mrange\u001b[0m \u001b[0;34m(\u001b[0m\u001b[0;36m1\u001b[0m\u001b[0;34m,\u001b[0m \u001b[0mdegree\u001b[0m \u001b[0;34m+\u001b[0m\u001b[0;36m1\u001b[0m\u001b[0;34m)\u001b[0m\u001b[0;34m:\u001b[0m\u001b[0;34m\u001b[0m\u001b[0;34m\u001b[0m\u001b[0m\n\u001b[0;32m----> 6\u001b[0;31m         \u001b[0mx_extended\u001b[0m \u001b[0;34m=\u001b[0m \u001b[0mnp\u001b[0m\u001b[0;34m.\u001b[0m\u001b[0mc_\u001b[0m\u001b[0;34m[\u001b[0m\u001b[0mx_extended\u001b[0m\u001b[0;34m,\u001b[0m \u001b[0mx\u001b[0m\u001b[0;34m**\u001b[0m\u001b[0md\u001b[0m\u001b[0;34m]\u001b[0m\u001b[0;34m\u001b[0m\u001b[0;34m\u001b[0m\u001b[0m\n\u001b[0m\u001b[1;32m      7\u001b[0m \u001b[0;34m\u001b[0m\u001b[0m\n\u001b[1;32m      8\u001b[0m \u001b[0;34m\u001b[0m\u001b[0m\n",
      "\u001b[0;32m~/anaconda3/lib/python3.7/site-packages/numpy/lib/index_tricks.py\u001b[0m in \u001b[0;36m__getitem__\u001b[0;34m(self, key)\u001b[0m\n\u001b[1;32m    333\u001b[0m                 \u001b[0mobjs\u001b[0m\u001b[0;34m[\u001b[0m\u001b[0mk\u001b[0m\u001b[0;34m]\u001b[0m \u001b[0;34m=\u001b[0m \u001b[0mobjs\u001b[0m\u001b[0;34m[\u001b[0m\u001b[0mk\u001b[0m\u001b[0;34m]\u001b[0m\u001b[0;34m.\u001b[0m\u001b[0mastype\u001b[0m\u001b[0;34m(\u001b[0m\u001b[0mfinal_dtype\u001b[0m\u001b[0;34m)\u001b[0m\u001b[0;34m\u001b[0m\u001b[0;34m\u001b[0m\u001b[0m\n\u001b[1;32m    334\u001b[0m \u001b[0;34m\u001b[0m\u001b[0m\n\u001b[0;32m--> 335\u001b[0;31m         \u001b[0mres\u001b[0m \u001b[0;34m=\u001b[0m \u001b[0mself\u001b[0m\u001b[0;34m.\u001b[0m\u001b[0mconcatenate\u001b[0m\u001b[0;34m(\u001b[0m\u001b[0mtuple\u001b[0m\u001b[0;34m(\u001b[0m\u001b[0mobjs\u001b[0m\u001b[0;34m)\u001b[0m\u001b[0;34m,\u001b[0m \u001b[0maxis\u001b[0m\u001b[0;34m=\u001b[0m\u001b[0maxis\u001b[0m\u001b[0;34m)\u001b[0m\u001b[0;34m\u001b[0m\u001b[0;34m\u001b[0m\u001b[0m\n\u001b[0m\u001b[1;32m    336\u001b[0m \u001b[0;34m\u001b[0m\u001b[0m\n\u001b[1;32m    337\u001b[0m         \u001b[0;32mif\u001b[0m \u001b[0mmatrix\u001b[0m\u001b[0;34m:\u001b[0m\u001b[0;34m\u001b[0m\u001b[0;34m\u001b[0m\u001b[0m\n",
      "\u001b[0;31mKeyboardInterrupt\u001b[0m: "
     ]
    }
   ],
   "source": [
    "#separate data with respect to column 24 and remove None\n",
    "split_x_test, _, split_ids_test =  separate(y_donotUse, tX_test, ids_test)\n",
    "split_x_cleaned_test = removeNone(split_x, dataStatistics(split_x_test))\n",
    "\n",
    "#median instead of None\n",
    "split_x_with_median = putMedianInsteadOfNone(split_x_cleaned_test)\n",
    "\n",
    "#line dropped when None\n",
    "#split_x_drop_lines, split_y_dropped_split_indexes_dropped = dropLineIfNone(split_x_cleaned_test, _, split_ids_test)\n",
    "\n",
    "#degrees for polynomial feature expension\n",
    "degrees = [1,2,3,5]\n",
    "\n",
    "y_res = []\n",
    "\n",
    "for i in range(4):\n",
    "    w_star, accuracy = crossValidation(cleaned_with_median[i], split_y[i], 0.9, degrees ,6)\n",
    "    \n",
    "    y_res.append(predict_labels(w_star, normalize(split_x_with_median[i])))\n",
    "\n",
    "\n",
    "\n"
   ]
  },
  {
   "cell_type": "code",
   "execution_count": 3,
   "metadata": {},
   "outputs": [
    {
     "ename": "NameError",
     "evalue": "name 'weights' is not defined",
     "output_type": "error",
     "traceback": [
      "\u001b[0;31m---------------------------------------------------------------------------\u001b[0m",
      "\u001b[0;31mNameError\u001b[0m                                 Traceback (most recent call last)",
      "\u001b[0;32m<ipython-input-3-14a4e9702f1f>\u001b[0m in \u001b[0;36m<module>\u001b[0;34m\u001b[0m\n\u001b[1;32m      1\u001b[0m \u001b[0mOUTPUT_PATH\u001b[0m \u001b[0;34m=\u001b[0m \u001b[0;34m'../data/submission.csv'\u001b[0m\u001b[0;34m\u001b[0m\u001b[0;34m\u001b[0m\u001b[0m\n\u001b[0;32m----> 2\u001b[0;31m \u001b[0my_pred\u001b[0m \u001b[0;34m=\u001b[0m \u001b[0mpredict_labels\u001b[0m\u001b[0;34m(\u001b[0m\u001b[0mweights\u001b[0m\u001b[0;34m,\u001b[0m \u001b[0mtX_test\u001b[0m\u001b[0;34m)\u001b[0m\u001b[0;34m\u001b[0m\u001b[0;34m\u001b[0m\u001b[0m\n\u001b[0m\u001b[1;32m      3\u001b[0m \u001b[0mcreate_csv_submission\u001b[0m\u001b[0;34m(\u001b[0m\u001b[0mids_test\u001b[0m\u001b[0;34m,\u001b[0m \u001b[0my_pred\u001b[0m\u001b[0;34m,\u001b[0m \u001b[0mOUTPUT_PATH\u001b[0m\u001b[0;34m)\u001b[0m\u001b[0;34m\u001b[0m\u001b[0;34m\u001b[0m\u001b[0m\n",
      "\u001b[0;31mNameError\u001b[0m: name 'weights' is not defined"
     ]
    }
   ],
   "source": [
    "OUTPUT_PATH = '../data/submission.csv'\n",
    "#y_pred = predict_labels(weights, tX_test)\n",
    "\n",
    "y_pred = put_together(y_res, split_ids_test)\n",
    "\n",
    "create_csv_submission(ids_test, y_pred, OUTPUT_PATH)"
   ]
  }
 ],
 "metadata": {
  "anaconda-cloud": {},
  "kernelspec": {
   "display_name": "Python 3",
   "language": "python",
   "name": "python3"
  },
  "language_info": {
   "codemirror_mode": {
    "name": "ipython",
    "version": 3
   },
   "file_extension": ".py",
   "mimetype": "text/x-python",
   "name": "python",
   "nbconvert_exporter": "python",
   "pygments_lexer": "ipython3",
   "version": "3.7.3"
  }
 },
 "nbformat": 4,
 "nbformat_minor": 1
}
